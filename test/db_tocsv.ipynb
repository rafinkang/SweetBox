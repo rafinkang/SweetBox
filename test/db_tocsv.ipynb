{
 "cells": [
  {
   "cell_type": "code",
   "execution_count": 18,
   "metadata": {},
   "outputs": [],
   "source": [
    "from DbConn import *\n",
    "import pandas as pd\n"
   ]
  },
  {
   "cell_type": "code",
   "execution_count": 19,
   "metadata": {},
   "outputs": [],
   "source": [
    "db = DbConn()\n",
    "sql=\"SELECT moviecd,actors1,actors2,actors3,actors4, max_audiacc FROM movie2\"\n",
    "\n",
    "\n",
    "movie2list = db.execute(sql)"
   ]
  },
  {
   "cell_type": "code",
   "execution_count": 20,
   "metadata": {},
   "outputs": [
    {
     "data": {
      "text/html": [
       "<div>\n",
       "<style scoped>\n",
       "    .dataframe tbody tr th:only-of-type {\n",
       "        vertical-align: middle;\n",
       "    }\n",
       "\n",
       "    .dataframe tbody tr th {\n",
       "        vertical-align: top;\n",
       "    }\n",
       "\n",
       "    .dataframe thead th {\n",
       "        text-align: right;\n",
       "    }\n",
       "</style>\n",
       "<table border=\"1\" class=\"dataframe\">\n",
       "  <thead>\n",
       "    <tr style=\"text-align: right;\">\n",
       "      <th></th>\n",
       "      <th>0</th>\n",
       "      <th>1</th>\n",
       "      <th>2</th>\n",
       "      <th>3</th>\n",
       "      <th>4</th>\n",
       "      <th>5</th>\n",
       "    </tr>\n",
       "  </thead>\n",
       "  <tbody>\n",
       "    <tr>\n",
       "      <th>0</th>\n",
       "      <td>20197981</td>\n",
       "      <td>None</td>\n",
       "      <td>None</td>\n",
       "      <td>None</td>\n",
       "      <td>None</td>\n",
       "      <td>5194</td>\n",
       "    </tr>\n",
       "    <tr>\n",
       "      <th>1</th>\n",
       "      <td>20183407</td>\n",
       "      <td>천우희</td>\n",
       "      <td>유태오</td>\n",
       "      <td>정재광</td>\n",
       "      <td>박예영</td>\n",
       "      <td>9742</td>\n",
       "    </tr>\n",
       "    <tr>\n",
       "      <th>2</th>\n",
       "      <td>20196760</td>\n",
       "      <td>None</td>\n",
       "      <td>None</td>\n",
       "      <td>None</td>\n",
       "      <td>None</td>\n",
       "      <td>17229</td>\n",
       "    </tr>\n",
       "    <tr>\n",
       "      <th>3</th>\n",
       "      <td>20192804</td>\n",
       "      <td>제임스 맥어보이</td>\n",
       "      <td>제시카 차스테인</td>\n",
       "      <td>빌 헤이더</td>\n",
       "      <td>제이 라이언</td>\n",
       "      <td>588958</td>\n",
       "    </tr>\n",
       "    <tr>\n",
       "      <th>4</th>\n",
       "      <td>20184572</td>\n",
       "      <td>박정민</td>\n",
       "      <td>류승범</td>\n",
       "      <td>최유화</td>\n",
       "      <td>우현</td>\n",
       "      <td>2224338</td>\n",
       "    </tr>\n",
       "  </tbody>\n",
       "</table>\n",
       "</div>"
      ],
      "text/plain": [
       "          0         1         2      3       4        5\n",
       "0  20197981      None      None   None    None     5194\n",
       "1  20183407       천우희       유태오    정재광     박예영     9742\n",
       "2  20196760      None      None   None    None    17229\n",
       "3  20192804  제임스 맥어보이  제시카 차스테인  빌 헤이더  제이 라이언   588958\n",
       "4  20184572       박정민       류승범    최유화      우현  2224338"
      ]
     },
     "execution_count": 20,
     "metadata": {},
     "output_type": "execute_result"
    }
   ],
   "source": [
    "df_movie2list = pd.DataFrame(movie2list)\n",
    "df_movie2list.head()"
   ]
  },
  {
   "cell_type": "code",
   "execution_count": 26,
   "metadata": {},
   "outputs": [],
   "source": [
    "df_movie2list.to_csv('df_movie2list.csv', encoding = 'CP949')\n",
    "\n"
   ]
  },
  {
   "cell_type": "code",
   "execution_count": 33,
   "metadata": {},
   "outputs": [],
   "source": [
    "\n",
    "sql2=\"\"\"\n",
    "SELECT ACTORS4, COUNT(*), max(MAX_AUDIACC), round(avg(MAX_AUDIACC) )\n",
    "FROM MOVIE2 \n",
    "GROUP BY ACTORS4\n",
    "\"\"\"\n",
    "\n",
    "movie2list2 = db.execute(sql2)\n",
    "df_movie2list2 = pd.DataFrame(movie2list2)\n",
    "# df_movie2list2.head()\n",
    "df_movie2list2.to_csv('df_movie2list2.csv', encoding = 'CP949')\n",
    "\n",
    "\n"
   ]
  },
  {
   "cell_type": "code",
   "execution_count": null,
   "metadata": {},
   "outputs": [],
   "source": []
  }
 ],
 "metadata": {
  "kernelspec": {
   "display_name": "Python 3",
   "language": "python",
   "name": "python3"
  },
  "language_info": {
   "codemirror_mode": {
    "name": "ipython",
    "version": 3
   },
   "file_extension": ".py",
   "mimetype": "text/x-python",
   "name": "python",
   "nbconvert_exporter": "python",
   "pygments_lexer": "ipython3",
   "version": "3.5.6"
  }
 },
 "nbformat": 4,
 "nbformat_minor": 4
}
