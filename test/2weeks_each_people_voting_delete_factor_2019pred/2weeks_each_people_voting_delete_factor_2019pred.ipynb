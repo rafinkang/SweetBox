{
 "cells": [
  {
   "cell_type": "code",
   "execution_count": 1,
   "metadata": {},
   "outputs": [],
   "source": [
    "from sklearn.externals import joblib \n",
    "# pickled binary file 형태로 저장된 객체를 로딩한다 \n",
    "file_name = '1000_500_200_100_voting_model.pkl' \n",
    "votigC = joblib.load(file_name) "
   ]
  },
  {
   "cell_type": "code",
   "execution_count": 54,
   "metadata": {},
   "outputs": [
    {
     "name": "stdout",
     "output_type": "stream",
     "text": [
      "누적 작업 완료. -----\n",
      "[(20182530, 16252575, 17583608, 16252575, 16252575, 16252575, 16252575, 16252575)]\n"
     ]
    }
   ],
   "source": [
    "import requests\n",
    "import json\n",
    "from DbConn import *\n",
    "from datetime import datetime, timedelta\n",
    "\n",
    "def week_dataframe(day):\n",
    "    db = DbConn()\n",
    "    \n",
    "    select_query = \"\"\"\n",
    "    select moviecd, audicnt \n",
    "    from boxoffice2  \n",
    "    where  movienm like '%기생충%' and opendt +:day = dailydate and dailydate > TO_DATE('19/01/01', 'YY/mm/dd') and dailydate > TO_DATE('03/01/01', 'YY/mm/dd')  \n",
    "    order by moviecd\n",
    "    \"\"\"\n",
    "    params = {\"day\":day}\n",
    "    select_result = db.execute(select_query,params)\n",
    "\n",
    "    print(\"첫주 작업 완료. -----\")\n",
    "    db.disconnect()\n",
    "    return  select_result\n",
    "\n",
    "day = 1\n",
    "\n",
    "def movie2_dataframe():\n",
    "    db = DbConn()\n",
    "    \n",
    "    select_query = \"\"\"\n",
    "    select moviecd,  max_audiacc, actors1_max, actors2_max, actors3_max, actors4_max,\n",
    "    \n",
    "    prod_max,\n",
    "    \n",
    "    director_max\n",
    "    \n",
    "    from movie2\n",
    "    where movienm like '%극한직업%' and opendt > TO_DATE('19/01/01', 'YY/mm/dd') and opendt > TO_DATE('03/01/01', 'YY/mm/dd') and max_audiacc > 1000000\n",
    "    order by moviecd\n",
    "    \"\"\"\n",
    "    select_result = db.execute(select_query)\n",
    "\n",
    "    print(\"누적 작업 완료. -----\")\n",
    "    db.disconnect()\n",
    "    return  select_result\n",
    "\n",
    "\n",
    "def screen_dataframe():\n",
    "    db = DbConn()\n",
    "    \n",
    "    select_query = \"\"\"\n",
    "    select moviecd, scrncnt\n",
    "    \n",
    "    from boxoffice2\n",
    "    where dailydate = opendt\n",
    "    order by moviecd\n",
    "    \"\"\"\n",
    "    select_result = db.execute(select_query)\n",
    "\n",
    "    print(\"누적 작업 완료. -----\")\n",
    "    db.disconnect()\n",
    "    return  select_result\n",
    "\n",
    "# def max_dataframe():\n",
    "#     db = DbConn()\n",
    "    \n",
    "#     select_query = \"\"\"\n",
    "#     select moviecd,  max(audiacc)\n",
    "#     from boxoffice \n",
    "#     group by moviecd\n",
    "#     order by moviecd\n",
    "#     \"\"\"\n",
    "#     select_result = db.execute(select_query)\n",
    "\n",
    "#     print(\"누적 작업 완료. -----\")\n",
    "#     db.disconnect()\n",
    "#     return  select_result\n",
    "\n",
    "# print(week_dataframe(13))\n",
    "\n",
    "print(movie2_dataframe())\n"
   ]
  },
  {
   "cell_type": "code",
   "execution_count": 55,
   "metadata": {},
   "outputs": [
    {
     "name": "stdout",
     "output_type": "stream",
     "text": [
      "첫주 작업 완료. -----\n"
     ]
    }
   ],
   "source": [
    "import pandas as pd\n",
    "df_week= []\n",
    "for i in range(0,day):\n",
    "    df_week_column_name = ['mnumber', 'dpeople+'+str(i)]\n",
    "    df_week.append( pd.DataFrame(week_dataframe(i), columns=df_week_column_name) )\n",
    "\n"
   ]
  },
  {
   "cell_type": "code",
   "execution_count": 56,
   "metadata": {},
   "outputs": [
    {
     "name": "stdout",
     "output_type": "stream",
     "text": [
      "누적 작업 완료. -----\n"
     ]
    },
    {
     "data": {
      "text/html": [
       "<div>\n",
       "<style scoped>\n",
       "    .dataframe tbody tr th:only-of-type {\n",
       "        vertical-align: middle;\n",
       "    }\n",
       "\n",
       "    .dataframe tbody tr th {\n",
       "        vertical-align: top;\n",
       "    }\n",
       "\n",
       "    .dataframe thead th {\n",
       "        text-align: right;\n",
       "    }\n",
       "</style>\n",
       "<table border=\"1\" class=\"dataframe\">\n",
       "  <thead>\n",
       "    <tr style=\"text-align: right;\">\n",
       "      <th></th>\n",
       "      <th>mnumber</th>\n",
       "      <th>sum_total_people</th>\n",
       "      <th>actors1_max</th>\n",
       "      <th>actors2_max</th>\n",
       "      <th>actors3_max</th>\n",
       "      <th>actors4_max</th>\n",
       "      <th>prod_max</th>\n",
       "      <th>director_max</th>\n",
       "    </tr>\n",
       "  </thead>\n",
       "  <tbody>\n",
       "    <tr>\n",
       "      <th>0</th>\n",
       "      <td>20182530</td>\n",
       "      <td>16252575</td>\n",
       "      <td>17583608</td>\n",
       "      <td>16252575</td>\n",
       "      <td>16252575</td>\n",
       "      <td>16252575</td>\n",
       "      <td>16252575</td>\n",
       "      <td>16252575</td>\n",
       "    </tr>\n",
       "  </tbody>\n",
       "</table>\n",
       "</div>"
      ],
      "text/plain": [
       "    mnumber  sum_total_people  actors1_max  actors2_max  actors3_max  \\\n",
       "0  20182530          16252575     17583608     16252575     16252575   \n",
       "\n",
       "   actors4_max  prod_max  director_max  \n",
       "0     16252575  16252575      16252575  "
      ]
     },
     "execution_count": 56,
     "metadata": {},
     "output_type": "execute_result"
    }
   ],
   "source": [
    "movie2_dataframe\n",
    "df_movie2_column_name = ['mnumber', 'sum_total_people', 'actors1_max', 'actors2_max', 'actors3_max', 'actors4_max',\n",
    "   \n",
    "    \n",
    "    'prod_max',\n",
    "    'director_max']\n",
    "df_movie2 = pd.DataFrame(movie2_dataframe(), columns=df_movie2_column_name )\n",
    "df_movie2.tail()"
   ]
  },
  {
   "cell_type": "code",
   "execution_count": 57,
   "metadata": {},
   "outputs": [
    {
     "name": "stdout",
     "output_type": "stream",
     "text": [
      "누적 작업 완료. -----\n"
     ]
    },
    {
     "data": {
      "text/html": [
       "<div>\n",
       "<style scoped>\n",
       "    .dataframe tbody tr th:only-of-type {\n",
       "        vertical-align: middle;\n",
       "    }\n",
       "\n",
       "    .dataframe tbody tr th {\n",
       "        vertical-align: top;\n",
       "    }\n",
       "\n",
       "    .dataframe thead th {\n",
       "        text-align: right;\n",
       "    }\n",
       "</style>\n",
       "<table border=\"1\" class=\"dataframe\">\n",
       "  <thead>\n",
       "    <tr style=\"text-align: right;\">\n",
       "      <th></th>\n",
       "      <th>mnumber</th>\n",
       "      <th>screen</th>\n",
       "    </tr>\n",
       "  </thead>\n",
       "  <tbody>\n",
       "    <tr>\n",
       "      <th>3019</th>\n",
       "      <td>20199923</td>\n",
       "      <td>116</td>\n",
       "    </tr>\n",
       "    <tr>\n",
       "      <th>3020</th>\n",
       "      <td>20199949</td>\n",
       "      <td>72</td>\n",
       "    </tr>\n",
       "    <tr>\n",
       "      <th>3021</th>\n",
       "      <td>20199950</td>\n",
       "      <td>1192</td>\n",
       "    </tr>\n",
       "    <tr>\n",
       "      <th>3022</th>\n",
       "      <td>20199951</td>\n",
       "      <td>653</td>\n",
       "    </tr>\n",
       "    <tr>\n",
       "      <th>3023</th>\n",
       "      <td>20199981</td>\n",
       "      <td>415</td>\n",
       "    </tr>\n",
       "  </tbody>\n",
       "</table>\n",
       "</div>"
      ],
      "text/plain": [
       "       mnumber  screen\n",
       "3019  20199923     116\n",
       "3020  20199949      72\n",
       "3021  20199950    1192\n",
       "3022  20199951     653\n",
       "3023  20199981     415"
      ]
     },
     "execution_count": 57,
     "metadata": {},
     "output_type": "execute_result"
    }
   ],
   "source": [
    "screen_dataframe\n",
    "df_screen_column_name = ['mnumber', 'screen']\n",
    "df_screen = pd.DataFrame(screen_dataframe(), columns=df_screen_column_name )\n",
    "df_screen.tail()"
   ]
  },
  {
   "cell_type": "code",
   "execution_count": 58,
   "metadata": {},
   "outputs": [
    {
     "data": {
      "text/html": [
       "<div>\n",
       "<style scoped>\n",
       "    .dataframe tbody tr th:only-of-type {\n",
       "        vertical-align: middle;\n",
       "    }\n",
       "\n",
       "    .dataframe tbody tr th {\n",
       "        vertical-align: top;\n",
       "    }\n",
       "\n",
       "    .dataframe thead th {\n",
       "        text-align: right;\n",
       "    }\n",
       "</style>\n",
       "<table border=\"1\" class=\"dataframe\">\n",
       "  <thead>\n",
       "    <tr style=\"text-align: right;\">\n",
       "      <th></th>\n",
       "      <th>mnumber</th>\n",
       "      <th>sum_total_people</th>\n",
       "      <th>actors1_max</th>\n",
       "      <th>actors2_max</th>\n",
       "      <th>actors3_max</th>\n",
       "      <th>actors4_max</th>\n",
       "      <th>prod_max</th>\n",
       "      <th>director_max</th>\n",
       "    </tr>\n",
       "  </thead>\n",
       "  <tbody>\n",
       "    <tr>\n",
       "      <th>0</th>\n",
       "      <td>20182530</td>\n",
       "      <td>16252575</td>\n",
       "      <td>17583608</td>\n",
       "      <td>16252575</td>\n",
       "      <td>16252575</td>\n",
       "      <td>16252575</td>\n",
       "      <td>16252575</td>\n",
       "      <td>16252575</td>\n",
       "    </tr>\n",
       "  </tbody>\n",
       "</table>\n",
       "</div>"
      ],
      "text/plain": [
       "    mnumber  sum_total_people  actors1_max  actors2_max  actors3_max  \\\n",
       "0  20182530          16252575     17583608     16252575     16252575   \n",
       "\n",
       "   actors4_max  prod_max  director_max  \n",
       "0     16252575  16252575      16252575  "
      ]
     },
     "execution_count": 58,
     "metadata": {},
     "output_type": "execute_result"
    }
   ],
   "source": [
    "df = df_movie2\n",
    "df.tail()"
   ]
  },
  {
   "cell_type": "code",
   "execution_count": 59,
   "metadata": {},
   "outputs": [],
   "source": [
    "# df = pd.merge(df_week[0],df_movie2, on='mnumber')\n",
    "\n",
    "# for i in range(1,day) :\n",
    "#     df = pd.merge(df_week[i],df, on='mnumber', how='outer')\n",
    "\n",
    "# df.tail()"
   ]
  },
  {
   "cell_type": "code",
   "execution_count": 60,
   "metadata": {},
   "outputs": [
    {
     "data": {
      "text/html": [
       "<div>\n",
       "<style scoped>\n",
       "    .dataframe tbody tr th:only-of-type {\n",
       "        vertical-align: middle;\n",
       "    }\n",
       "\n",
       "    .dataframe tbody tr th {\n",
       "        vertical-align: top;\n",
       "    }\n",
       "\n",
       "    .dataframe thead th {\n",
       "        text-align: right;\n",
       "    }\n",
       "</style>\n",
       "<table border=\"1\" class=\"dataframe\">\n",
       "  <thead>\n",
       "    <tr style=\"text-align: right;\">\n",
       "      <th></th>\n",
       "      <th>mnumber</th>\n",
       "      <th>sum_total_people</th>\n",
       "      <th>actors1_max</th>\n",
       "      <th>actors2_max</th>\n",
       "      <th>actors3_max</th>\n",
       "      <th>actors4_max</th>\n",
       "      <th>prod_max</th>\n",
       "      <th>director_max</th>\n",
       "      <th>screen</th>\n",
       "    </tr>\n",
       "  </thead>\n",
       "  <tbody>\n",
       "    <tr>\n",
       "      <th>0</th>\n",
       "      <td>20182530</td>\n",
       "      <td>16252575</td>\n",
       "      <td>17583608</td>\n",
       "      <td>16252575</td>\n",
       "      <td>16252575</td>\n",
       "      <td>16252575</td>\n",
       "      <td>16252575</td>\n",
       "      <td>16252575</td>\n",
       "      <td>1553</td>\n",
       "    </tr>\n",
       "  </tbody>\n",
       "</table>\n",
       "</div>"
      ],
      "text/plain": [
       "    mnumber  sum_total_people  actors1_max  actors2_max  actors3_max  \\\n",
       "0  20182530          16252575     17583608     16252575     16252575   \n",
       "\n",
       "   actors4_max  prod_max  director_max  screen  \n",
       "0     16252575  16252575      16252575    1553  "
      ]
     },
     "execution_count": 60,
     "metadata": {},
     "output_type": "execute_result"
    }
   ],
   "source": [
    "df = pd.merge(df,df_screen, on='mnumber')\n",
    "\n",
    "df.tail()"
   ]
  },
  {
   "cell_type": "code",
   "execution_count": 61,
   "metadata": {},
   "outputs": [
    {
     "data": {
      "text/html": [
       "<div>\n",
       "<style scoped>\n",
       "    .dataframe tbody tr th:only-of-type {\n",
       "        vertical-align: middle;\n",
       "    }\n",
       "\n",
       "    .dataframe tbody tr th {\n",
       "        vertical-align: top;\n",
       "    }\n",
       "\n",
       "    .dataframe thead th {\n",
       "        text-align: right;\n",
       "    }\n",
       "</style>\n",
       "<table border=\"1\" class=\"dataframe\">\n",
       "  <thead>\n",
       "    <tr style=\"text-align: right;\">\n",
       "      <th></th>\n",
       "      <th>mnumber</th>\n",
       "      <th>sum_total_people</th>\n",
       "      <th>actors1_max</th>\n",
       "      <th>actors2_max</th>\n",
       "      <th>actors3_max</th>\n",
       "      <th>actors4_max</th>\n",
       "      <th>prod_max</th>\n",
       "      <th>director_max</th>\n",
       "      <th>screen</th>\n",
       "    </tr>\n",
       "  </thead>\n",
       "  <tbody>\n",
       "    <tr>\n",
       "      <th>0</th>\n",
       "      <td>20182530</td>\n",
       "      <td>16252575</td>\n",
       "      <td>17583608</td>\n",
       "      <td>16252575</td>\n",
       "      <td>16252575</td>\n",
       "      <td>16252575</td>\n",
       "      <td>16252575</td>\n",
       "      <td>16252575</td>\n",
       "      <td>1553</td>\n",
       "    </tr>\n",
       "  </tbody>\n",
       "</table>\n",
       "</div>"
      ],
      "text/plain": [
       "    mnumber  sum_total_people  actors1_max  actors2_max  actors3_max  \\\n",
       "0  20182530          16252575     17583608     16252575     16252575   \n",
       "\n",
       "   actors4_max  prod_max  director_max  screen  \n",
       "0     16252575  16252575      16252575    1553  "
      ]
     },
     "execution_count": 61,
     "metadata": {},
     "output_type": "execute_result"
    }
   ],
   "source": [
    "df_movie2_column_name = ['mnumber', 'sum_total_people', 'actors1_max', 'actors2_max', 'actors3_max', 'actors4_max',\n",
    "   \n",
    "    \n",
    "    'prod_max',\n",
    "    'director_max','screen']\n",
    "for i in df_movie2_column_name:\n",
    "    df[i] = df[i].fillna(0)\n",
    "    \n",
    "df.tail()"
   ]
  },
  {
   "cell_type": "code",
   "execution_count": 62,
   "metadata": {},
   "outputs": [],
   "source": [
    "# for i in range(0,day) :\n",
    "#     df['dpeople+'+str(i)] = df['dpeople+'+str(i)].fillna(0)\n",
    "\n",
    "# df.tail()"
   ]
  },
  {
   "cell_type": "code",
   "execution_count": 63,
   "metadata": {},
   "outputs": [
    {
     "name": "stdout",
     "output_type": "stream",
     "text": [
      "16252575 16252575 16252575 16252575 16252575 16252575 16252575 16252575 16252575 16252575\n"
     ]
    }
   ],
   "source": [
    "print(df['sum_total_people'].quantile(q=0.9, interpolation='nearest'),\n",
    "      df['sum_total_people'].quantile(q=0.8, interpolation='nearest'),\n",
    "      df['sum_total_people'].quantile(q=0.7, interpolation='nearest'),\n",
    "      df['sum_total_people'].quantile(q=0.6, interpolation='nearest'),\n",
    "      df['sum_total_people'].quantile(q=0.5, interpolation='nearest'),\n",
    "      df['sum_total_people'].quantile(q=0.4, interpolation='nearest'),\n",
    "      df['sum_total_people'].quantile(q=0.3, interpolation='nearest'),\n",
    "      df['sum_total_people'].quantile(q=0.2, interpolation='nearest'),\n",
    "      df['sum_total_people'].quantile(q=0.1, interpolation='nearest'),\n",
    "      df['sum_total_people'].quantile(q=0, interpolation='nearest')\n",
    "      \n",
    "     )\n",
    "\n",
    "a=df['sum_total_people'].quantile(q=0.9, interpolation='nearest')\n",
    "b=df['sum_total_people'].quantile(q=0.8, interpolation='nearest')\n",
    "c=df['sum_total_people'].quantile(q=0.7, interpolation='nearest')\n",
    "d=df['sum_total_people'].quantile(q=0.6, interpolation='nearest')\n",
    "e=df['sum_total_people'].quantile(q=0.5, interpolation='nearest')\n",
    "f=df['sum_total_people'].quantile(q=0.4, interpolation='nearest')\n",
    "g=df['sum_total_people'].quantile(q=0.3, interpolation='nearest')\n",
    "h=df['sum_total_people'].quantile(q=0.2, interpolation='nearest')\n",
    "i=df['sum_total_people'].quantile(q=0.1, interpolation='nearest')\n",
    "j=df['sum_total_people'].quantile(q=0, interpolation='nearest')\n",
    "\n",
    "\n",
    "a = 10000000\n",
    "b = 5000000\n",
    "c = 2000000\n",
    "d = 1000000\n",
    "\n",
    "\n",
    "\n",
    "# 1% 1000만\n",
    "# 4% 500만\n",
    "# 24% 100만\n",
    "# 65% 13만\n",
    "# 100% 0"
   ]
  },
  {
   "cell_type": "code",
   "execution_count": 64,
   "metadata": {},
   "outputs": [
    {
     "data": {
      "text/plain": [
       "0    A\n",
       "Name: score, dtype: object"
      ]
     },
     "execution_count": 64,
     "metadata": {},
     "output_type": "execute_result"
    }
   ],
   "source": [
    "score_list = []\n",
    "for q in df['sum_total_people']:\n",
    "    if q >= a:\n",
    "        score_list.append('A')\n",
    "    elif q >= b:\n",
    "        score_list.append('B')\n",
    "    elif q >= c:\n",
    "        score_list.append('C')\n",
    "    elif q >= d:\n",
    "        score_list.append('D')\n",
    "#     elif q >= e:\n",
    "#         score_list.append('E')\n",
    "#     elif q >= f:\n",
    "#         score_list.append('F')\n",
    "#     elif q >= g:\n",
    "#         score_list.append('G')\n",
    "#     elif q >= h:\n",
    "#         score_list.append('H')\n",
    "#     elif q >= i:\n",
    "#         score_list.append('I')\n",
    "#     else:\n",
    "#         score_list.append('J')\n",
    "   \n",
    "\n",
    "df['score'] = score_list\n",
    "df['score'].head()"
   ]
  },
  {
   "cell_type": "code",
   "execution_count": 65,
   "metadata": {},
   "outputs": [
    {
     "data": {
      "text/plain": [
       "score\n",
       "A    1\n",
       "Name: score, dtype: int64"
      ]
     },
     "execution_count": 65,
     "metadata": {},
     "output_type": "execute_result"
    }
   ],
   "source": [
    "df.groupby('score')['score'].count()"
   ]
  },
  {
   "cell_type": "code",
   "execution_count": 66,
   "metadata": {},
   "outputs": [
    {
     "data": {
      "text/html": [
       "<div>\n",
       "<style scoped>\n",
       "    .dataframe tbody tr th:only-of-type {\n",
       "        vertical-align: middle;\n",
       "    }\n",
       "\n",
       "    .dataframe tbody tr th {\n",
       "        vertical-align: top;\n",
       "    }\n",
       "\n",
       "    .dataframe thead th {\n",
       "        text-align: right;\n",
       "    }\n",
       "</style>\n",
       "<table border=\"1\" class=\"dataframe\">\n",
       "  <thead>\n",
       "    <tr style=\"text-align: right;\">\n",
       "      <th></th>\n",
       "      <th>actors1_max</th>\n",
       "      <th>actors2_max</th>\n",
       "      <th>actors3_max</th>\n",
       "      <th>actors4_max</th>\n",
       "      <th>prod_max</th>\n",
       "      <th>director_max</th>\n",
       "      <th>screen</th>\n",
       "    </tr>\n",
       "  </thead>\n",
       "  <tbody>\n",
       "    <tr>\n",
       "      <th>0</th>\n",
       "      <td>17583608</td>\n",
       "      <td>16252575</td>\n",
       "      <td>16252575</td>\n",
       "      <td>16252575</td>\n",
       "      <td>16252575</td>\n",
       "      <td>16252575</td>\n",
       "      <td>1553</td>\n",
       "    </tr>\n",
       "  </tbody>\n",
       "</table>\n",
       "</div>"
      ],
      "text/plain": [
       "   actors1_max  actors2_max  actors3_max  actors4_max  prod_max  director_max  \\\n",
       "0     17583608     16252575     16252575     16252575  16252575      16252575   \n",
       "\n",
       "   screen  \n",
       "0    1553  "
      ]
     },
     "execution_count": 66,
     "metadata": {},
     "output_type": "execute_result"
    }
   ],
   "source": [
    "X = df.drop(['mnumber', 'sum_total_people','score'], axis=1)\n",
    "X.tail()"
   ]
  },
  {
   "cell_type": "code",
   "execution_count": 67,
   "metadata": {},
   "outputs": [],
   "source": [
    "Y=df['score']"
   ]
  },
  {
   "cell_type": "code",
   "execution_count": 68,
   "metadata": {},
   "outputs": [
    {
     "data": {
      "text/plain": [
       "array(['A'], dtype=object)"
      ]
     },
     "execution_count": 68,
     "metadata": {},
     "output_type": "execute_result"
    }
   ],
   "source": [
    "prediction = votigC.predict(X)\n",
    "prediction"
   ]
  },
  {
   "cell_type": "code",
   "execution_count": 29,
   "metadata": {},
   "outputs": [
    {
     "name": "stdout",
     "output_type": "stream",
     "text": [
      "초대박 : 10000000 명\n",
      "대박 : 5000000 명\n",
      "중박 : 2000000 명\n",
      "쪽박 : 1000000 명\n",
      "GBM 정확도: 0.9091\n"
     ]
    },
    {
     "data": {
      "text/html": [
       "<div>\n",
       "<style scoped>\n",
       "    .dataframe tbody tr th:only-of-type {\n",
       "        vertical-align: middle;\n",
       "    }\n",
       "\n",
       "    .dataframe tbody tr th {\n",
       "        vertical-align: top;\n",
       "    }\n",
       "\n",
       "    .dataframe thead th {\n",
       "        text-align: right;\n",
       "    }\n",
       "</style>\n",
       "<table border=\"1\" class=\"dataframe\">\n",
       "  <thead>\n",
       "    <tr style=\"text-align: right;\">\n",
       "      <th></th>\n",
       "      <th>Pred[A]</th>\n",
       "      <th>Pred[B]</th>\n",
       "      <th>Pred[C]</th>\n",
       "      <th>Pred[D]</th>\n",
       "    </tr>\n",
       "  </thead>\n",
       "  <tbody>\n",
       "    <tr>\n",
       "      <th>True[A]</th>\n",
       "      <td>7</td>\n",
       "      <td>0</td>\n",
       "      <td>0</td>\n",
       "      <td>0</td>\n",
       "    </tr>\n",
       "    <tr>\n",
       "      <th>True[B]</th>\n",
       "      <td>0</td>\n",
       "      <td>21</td>\n",
       "      <td>2</td>\n",
       "      <td>0</td>\n",
       "    </tr>\n",
       "    <tr>\n",
       "      <th>True[C]</th>\n",
       "      <td>0</td>\n",
       "      <td>0</td>\n",
       "      <td>76</td>\n",
       "      <td>1</td>\n",
       "    </tr>\n",
       "    <tr>\n",
       "      <th>True[D]</th>\n",
       "      <td>0</td>\n",
       "      <td>1</td>\n",
       "      <td>14</td>\n",
       "      <td>76</td>\n",
       "    </tr>\n",
       "  </tbody>\n",
       "</table>\n",
       "</div>"
      ],
      "text/plain": [
       "         Pred[A]  Pred[B]  Pred[C]  Pred[D]\n",
       "True[A]        7        0        0        0\n",
       "True[B]        0       21        2        0\n",
       "True[C]        0        0       76        1\n",
       "True[D]        0        1       14       76"
      ]
     },
     "execution_count": 29,
     "metadata": {},
     "output_type": "execute_result"
    }
   ],
   "source": [
    "# cunfuse matrix\n",
    "from sklearn.metrics import confusion_matrix\n",
    "from sklearn.metrics import accuracy_score, precision_score, recall_score, f1_score\n",
    "\n",
    "# 보팅한 컨퓨전매트릭스\n",
    "conMat = pd.DataFrame(confusion_matrix(y_test,prediction),\n",
    "#                          index=['True[A]', 'True[B]', 'True[C]', 'True[D]',  'True[E]','True[F]', 'True[G]', 'True[H]', 'True[J]',  'True[K]'],\n",
    "#                          columns=['Pred[A]', 'Pred[B]', 'Pred[C]', 'Pred[D]',  'Pred[E]','Pred[F]', 'Pred[G]', 'Pred[H]', 'Pred[J]',  'Pred[K]'])\n",
    "                         index=['True[A]', 'True[B]', 'True[C]', 'True[D]'],\n",
    "                         columns=['Pred[A]', 'Pred[B]', 'Pred[C]', 'Pred[D]'])\n",
    "\n",
    "gb_accuracy_voting = accuracy_score(y_test, prediction)\n",
    "print('초대박 :',a,'명')\n",
    "print('대박 :',b,'명')\n",
    "print('중박 :',c,'명')\n",
    "print('쪽박 :',d,'명')\n",
    "print('GBM 정확도: {0:.4f}'.format(gb_accuracy_voting))\n",
    " # 정확도, precision, recall, f1\n",
    "conMat\n"
   ]
  },
  {
   "cell_type": "code",
   "execution_count": 30,
   "metadata": {},
   "outputs": [
    {
     "name": "stdout",
     "output_type": "stream",
     "text": [
      "GBM 정확도: 0.9091\n"
     ]
    }
   ],
   "source": [
    "gb_accuracy_voting = accuracy_score(y_test, prediction)\n",
    "print('GBM 정확도: {0:.4f}'.format(gb_accuracy_voting))"
   ]
  },
  {
   "cell_type": "code",
   "execution_count": 63,
   "metadata": {},
   "outputs": [
    {
     "data": {
      "text/html": [
       "<div>\n",
       "<style scoped>\n",
       "    .dataframe tbody tr th:only-of-type {\n",
       "        vertical-align: middle;\n",
       "    }\n",
       "\n",
       "    .dataframe tbody tr th {\n",
       "        vertical-align: top;\n",
       "    }\n",
       "\n",
       "    .dataframe thead th {\n",
       "        text-align: right;\n",
       "    }\n",
       "</style>\n",
       "<table border=\"1\" class=\"dataframe\">\n",
       "  <thead>\n",
       "    <tr style=\"text-align: right;\">\n",
       "      <th></th>\n",
       "      <th>Pred[A]</th>\n",
       "      <th>Pred[B]</th>\n",
       "      <th>Pred[C]</th>\n",
       "      <th>Pred[D]</th>\n",
       "    </tr>\n",
       "  </thead>\n",
       "  <tbody>\n",
       "    <tr>\n",
       "      <th>True[A]</th>\n",
       "      <td>7</td>\n",
       "      <td>0</td>\n",
       "      <td>0</td>\n",
       "      <td>0</td>\n",
       "    </tr>\n",
       "    <tr>\n",
       "      <th>True[B]</th>\n",
       "      <td>2</td>\n",
       "      <td>19</td>\n",
       "      <td>2</td>\n",
       "      <td>0</td>\n",
       "    </tr>\n",
       "    <tr>\n",
       "      <th>True[C]</th>\n",
       "      <td>0</td>\n",
       "      <td>1</td>\n",
       "      <td>74</td>\n",
       "      <td>2</td>\n",
       "    </tr>\n",
       "    <tr>\n",
       "      <th>True[D]</th>\n",
       "      <td>0</td>\n",
       "      <td>1</td>\n",
       "      <td>13</td>\n",
       "      <td>77</td>\n",
       "    </tr>\n",
       "  </tbody>\n",
       "</table>\n",
       "</div>"
      ],
      "text/plain": [
       "         Pred[A]  Pred[B]  Pred[C]  Pred[D]\n",
       "True[A]        7        0        0        0\n",
       "True[B]        2       19        2        0\n",
       "True[C]        0        1       74        2\n",
       "True[D]        0        1       13       77"
      ]
     },
     "execution_count": 63,
     "metadata": {},
     "output_type": "execute_result"
    }
   ],
   "source": [
    "# cunfuse matrix\n",
    "from sklearn.metrics import confusion_matrix\n",
    "from sklearn.metrics import accuracy_score, precision_score, recall_score, f1_score\n",
    "rfc.fit(X_train, y_train) #랜덤포레스트의 컨퓨전 매트릭스\n",
    "\n",
    "y_pred = rfc.predict(X_test)\n",
    "\n",
    "conMat = pd.DataFrame(confusion_matrix(y_test,y_pred),\n",
    "#                         index=['True[A]', 'True[B]', 'True[C]', 'True[D]',  'True[E]','True[F]', 'True[G]', 'True[H]', 'True[J]',  'True[K]'],\n",
    "#                          columns=['Pred[A]', 'Pred[B]', 'Pred[C]', 'Pred[D]',  'Pred[E]','Pred[F]', 'Pred[G]', 'Pred[H]', 'Pred[J]',  'Pred[K]'])\n",
    "                         index=['True[A]', 'True[B]', 'True[C]', 'True[D]'],\n",
    "                         columns=['Pred[A]', 'Pred[B]', 'Pred[C]', 'Pred[D]'])\n",
    " # 정확도, precision, recall, f1\n",
    "conMat"
   ]
  },
  {
   "cell_type": "code",
   "execution_count": 64,
   "metadata": {},
   "outputs": [
    {
     "name": "stdout",
     "output_type": "stream",
     "text": [
      "GBM 정확도: 0.8939\n"
     ]
    }
   ],
   "source": [
    "gb_accuracy_rfc = accuracy_score(y_test, y_pred)\n",
    "print('GBM 정확도: {0:.4f}'.format(gb_accuracy_rfc))"
   ]
  },
  {
   "cell_type": "code",
   "execution_count": 65,
   "metadata": {},
   "outputs": [
    {
     "data": {
      "text/plain": [
       "Index(['actors1_max', 'actors2_max', 'actors3_max', 'actors4_max', 'prod_max',\n",
       "       'director_max', 'screen'],\n",
       "      dtype='object')"
      ]
     },
     "execution_count": 65,
     "metadata": {},
     "output_type": "execute_result"
    }
   ],
   "source": [
    "feat_labels = X.columns\n",
    "feat_labels"
   ]
  },
  {
   "cell_type": "code",
   "execution_count": 66,
   "metadata": {},
   "outputs": [
    {
     "name": "stdout",
     "output_type": "stream",
     "text": [
      " 1) director_max                   0.294105\n",
      " 2) actors4_max                    0.225274\n",
      " 3) actors2_max                    0.157803\n",
      " 4) actors3_max                    0.133056\n",
      " 5) actors1_max                    0.081949\n",
      " 6) prod_max                       0.059827\n",
      " 7) screen                         0.047986\n"
     ]
    },
    {
     "data": {
      "image/png": "[encoded data removed]",
      "text/plain": [
       "<Figure size 1440x1080 with 1 Axes>"
      ]
     },
     "metadata": {},
     "output_type": "display_data"
    }
   ],
   "source": [
    "import numpy as np\n",
    "\n",
    "plt.style.use('fivethirtyeight')\n",
    "fig = plt.figure(figsize=(20,15))\n",
    "                 \n",
    "importances = rfc.feature_importances_\n",
    "indices = np.argsort(importances)[::-1]\n",
    "for f in range(X_train.shape[1]):\n",
    "    print(\"%2d) %-*s %f\"%(f+1,30,feat_labels[indices[f]],\n",
    "                         importances[indices[f]]))\n",
    "plt.title('Feature importance')\n",
    "plt.bar(range(X_train.shape[1]), importances[indices], align='center')\n",
    "plt.xticks(range(X_train.shape[1]), feat_labels[indices], rotation=90,fontsize=30)\n",
    "plt.tight_layout()\n",
    "plt.savefig('randomforest.png')\n",
    "plt.show()"
   ]
  },
  {
   "cell_type": "code",
   "execution_count": 67,
   "metadata": {},
   "outputs": [],
   "source": [
    "# 1~7 일 정도의 데이터가 제일 중요하고 이후날짜의 데이터는 크게 중요치 않음"
   ]
  },
  {
   "cell_type": "code",
   "execution_count": 68,
   "metadata": {},
   "outputs": [
    {
     "data": {
      "text/html": [
       "<div>\n",
       "<style scoped>\n",
       "    .dataframe tbody tr th:only-of-type {\n",
       "        vertical-align: middle;\n",
       "    }\n",
       "\n",
       "    .dataframe tbody tr th {\n",
       "        vertical-align: top;\n",
       "    }\n",
       "\n",
       "    .dataframe thead th {\n",
       "        text-align: right;\n",
       "    }\n",
       "</style>\n",
       "<table border=\"1\" class=\"dataframe\">\n",
       "  <thead>\n",
       "    <tr style=\"text-align: right;\">\n",
       "      <th></th>\n",
       "      <th>mnumber</th>\n",
       "      <th>sum_total_people</th>\n",
       "      <th>actors1_max</th>\n",
       "      <th>actors2_max</th>\n",
       "      <th>actors3_max</th>\n",
       "      <th>actors4_max</th>\n",
       "      <th>prod_max</th>\n",
       "      <th>director_max</th>\n",
       "      <th>screen</th>\n",
       "      <th>score</th>\n",
       "    </tr>\n",
       "  </thead>\n",
       "  <tbody>\n",
       "    <tr>\n",
       "      <th>0</th>\n",
       "      <td>20030371</td>\n",
       "      <td>2544096</td>\n",
       "      <td>2552870.0</td>\n",
       "      <td>6165804.0</td>\n",
       "      <td>2544096.0</td>\n",
       "      <td>2544096.0</td>\n",
       "      <td>2544096.0</td>\n",
       "      <td>2544096</td>\n",
       "      <td>74</td>\n",
       "      <td>C</td>\n",
       "    </tr>\n",
       "    <tr>\n",
       "      <th>1</th>\n",
       "      <td>20030410</td>\n",
       "      <td>1717703</td>\n",
       "      <td>11287394.0</td>\n",
       "      <td>6841937.0</td>\n",
       "      <td>3732836.0</td>\n",
       "      <td>6424662.0</td>\n",
       "      <td>3348591.0</td>\n",
       "      <td>4310577</td>\n",
       "      <td>15</td>\n",
       "      <td>D</td>\n",
       "    </tr>\n",
       "    <tr>\n",
       "      <th>2</th>\n",
       "      <td>20040490</td>\n",
       "      <td>1822588</td>\n",
       "      <td>2651870.0</td>\n",
       "      <td>1964593.0</td>\n",
       "      <td>1822588.0</td>\n",
       "      <td>0.0</td>\n",
       "      <td>5395350.0</td>\n",
       "      <td>5395350</td>\n",
       "      <td>127</td>\n",
       "      <td>D</td>\n",
       "    </tr>\n",
       "    <tr>\n",
       "      <th>3</th>\n",
       "      <td>20040491</td>\n",
       "      <td>1505539</td>\n",
       "      <td>4589877.0</td>\n",
       "      <td>4589877.0</td>\n",
       "      <td>0.0</td>\n",
       "      <td>0.0</td>\n",
       "      <td>1505539.0</td>\n",
       "      <td>4589877</td>\n",
       "      <td>162</td>\n",
       "      <td>D</td>\n",
       "    </tr>\n",
       "    <tr>\n",
       "      <th>4</th>\n",
       "      <td>20040554</td>\n",
       "      <td>1267028</td>\n",
       "      <td>3116112.0</td>\n",
       "      <td>1267028.0</td>\n",
       "      <td>1267028.0</td>\n",
       "      <td>4130782.0</td>\n",
       "      <td>1267028.0</td>\n",
       "      <td>1267028</td>\n",
       "      <td>93</td>\n",
       "      <td>D</td>\n",
       "    </tr>\n",
       "  </tbody>\n",
       "</table>\n",
       "</div>"
      ],
      "text/plain": [
       "    mnumber  sum_total_people  actors1_max  actors2_max  actors3_max  \\\n",
       "0  20030371           2544096    2552870.0    6165804.0    2544096.0   \n",
       "1  20030410           1717703   11287394.0    6841937.0    3732836.0   \n",
       "2  20040490           1822588    2651870.0    1964593.0    1822588.0   \n",
       "3  20040491           1505539    4589877.0    4589877.0          0.0   \n",
       "4  20040554           1267028    3116112.0    1267028.0    1267028.0   \n",
       "\n",
       "   actors4_max   prod_max  director_max  screen score  \n",
       "0    2544096.0  2544096.0       2544096      74     C  \n",
       "1    6424662.0  3348591.0       4310577      15     D  \n",
       "2          0.0  5395350.0       5395350     127     D  \n",
       "3          0.0  1505539.0       4589877     162     D  \n",
       "4    4130782.0  1267028.0       1267028      93     D  "
      ]
     },
     "execution_count": 68,
     "metadata": {},
     "output_type": "execute_result"
    }
   ],
   "source": [
    "df.head()"
   ]
  },
  {
   "cell_type": "code",
   "execution_count": 69,
   "metadata": {},
   "outputs": [
    {
     "data": {
      "text/plain": [
       "Index(['mnumber', 'sum_total_people', 'actors1_max', 'actors2_max',\n",
       "       'actors3_max', 'actors4_max', 'prod_max', 'director_max', 'screen',\n",
       "       'score'],\n",
       "      dtype='object')"
      ]
     },
     "execution_count": 69,
     "metadata": {},
     "output_type": "execute_result"
    }
   ],
   "source": [
    "df.columns"
   ]
  },
  {
   "cell_type": "code",
   "execution_count": 70,
   "metadata": {},
   "outputs": [
    {
     "data": {
      "text/html": [
       "<div>\n",
       "<style scoped>\n",
       "    .dataframe tbody tr th:only-of-type {\n",
       "        vertical-align: middle;\n",
       "    }\n",
       "\n",
       "    .dataframe tbody tr th {\n",
       "        vertical-align: top;\n",
       "    }\n",
       "\n",
       "    .dataframe thead th {\n",
       "        text-align: right;\n",
       "    }\n",
       "</style>\n",
       "<table border=\"1\" class=\"dataframe\">\n",
       "  <thead>\n",
       "    <tr style=\"text-align: right;\">\n",
       "      <th></th>\n",
       "      <th>VIF Factor</th>\n",
       "      <th>features</th>\n",
       "    </tr>\n",
       "  </thead>\n",
       "  <tbody>\n",
       "    <tr>\n",
       "      <th>0</th>\n",
       "      <td>551960.523478</td>\n",
       "      <td>Intercept</td>\n",
       "    </tr>\n",
       "    <tr>\n",
       "      <th>1</th>\n",
       "      <td>2.347047</td>\n",
       "      <td>mnumber</td>\n",
       "    </tr>\n",
       "    <tr>\n",
       "      <th>2</th>\n",
       "      <td>1.415313</td>\n",
       "      <td>actors1_max</td>\n",
       "    </tr>\n",
       "    <tr>\n",
       "      <th>3</th>\n",
       "      <td>1.381079</td>\n",
       "      <td>actors2_max</td>\n",
       "    </tr>\n",
       "    <tr>\n",
       "      <th>4</th>\n",
       "      <td>1.504689</td>\n",
       "      <td>actors3_max</td>\n",
       "    </tr>\n",
       "    <tr>\n",
       "      <th>5</th>\n",
       "      <td>1.603363</td>\n",
       "      <td>actors4_max</td>\n",
       "    </tr>\n",
       "    <tr>\n",
       "      <th>6</th>\n",
       "      <td>1.411851</td>\n",
       "      <td>prod_max</td>\n",
       "    </tr>\n",
       "    <tr>\n",
       "      <th>7</th>\n",
       "      <td>1.553189</td>\n",
       "      <td>director_max</td>\n",
       "    </tr>\n",
       "    <tr>\n",
       "      <th>8</th>\n",
       "      <td>2.643410</td>\n",
       "      <td>screen</td>\n",
       "    </tr>\n",
       "  </tbody>\n",
       "</table>\n",
       "</div>"
      ],
      "text/plain": [
       "      VIF Factor      features\n",
       "0  551960.523478     Intercept\n",
       "1       2.347047       mnumber\n",
       "2       1.415313   actors1_max\n",
       "3       1.381079   actors2_max\n",
       "4       1.504689   actors3_max\n",
       "5       1.603363   actors4_max\n",
       "6       1.411851      prod_max\n",
       "7       1.553189  director_max\n",
       "8       2.643410        screen"
      ]
     },
     "execution_count": 70,
     "metadata": {},
     "output_type": "execute_result"
    }
   ],
   "source": [
    "from patsy import dmatrices\n",
    "from statsmodels.stats.outliers_influence import variance_inflation_factor\n",
    "\n",
    "# y, X = dmatrices('sum_total_people ~ mnumber+ actors1_max+ actors2_max+actors3_max+ actors4_max+ actors1_avg+ actors2_avg+actors3_avg+ actors4_avg+ actors1_100cnt+ actors2_100cnt+actors3_100cnt+ actors4_100cnt+ prod_max+ prod_avg+prod_100cnt+ genre_max+ genre_avg+ genre_100cnt+ genresub_max+genresub_avg+ genresub_100cnt+ director_max+ director_avg+director_100cnt+ screen' , df, return_type = 'dataframe')\n",
    "y, X = dmatrices('sum_total_people ~ mnumber+ actors1_max+ actors2_max+actors3_max+ actors4_max+  prod_max+ director_max+ screen' , df, return_type = 'dataframe')\n",
    "\n",
    "vif = pd.DataFrame()\n",
    "vif[\"VIF Factor\"] = [variance_inflation_factor(X.values, i) for i in range(X.shape[1])]\n",
    "vif[\"features\"] = X.columns \n",
    "vif"
   ]
  },
  {
   "cell_type": "code",
   "execution_count": 136,
   "metadata": {},
   "outputs": [
    {
     "name": "stdout",
     "output_type": "stream",
     "text": [
      "['Malgun Gothic']\n"
     ]
    },
    {
     "data": {
      "image/png": "[encoded data removed]",
      "text/plain": [
       "<Figure size 432x288 with 1 Axes>"
      ]
     },
     "metadata": {},
     "output_type": "display_data"
    }
   ],
   "source": [
    "import matplotlib.pyplot as plt\n",
    "import pandas as pd\n",
    "from matplotlib import font_manager, rc\n",
    "# matplotlib 폰트설정\n",
    "# plt.rc('font', family='NanumGothicOTF') # For MacOS\n",
    "plt.rc('font', family='Malgun Gothic') # For Windows\n",
    "print(plt.rcParams['font.family'])\n",
    "\n",
    "plt.style.use('fivethirtyeight')\n",
    "\n",
    "xLabel = ['극한직업','기생충','스파이더맨','테넷','도굴']\n",
    "x = pd.Series([1,2,3,4,5])\n",
    "pred = [10000000,10000000,5000000,1000000,1000000]\n",
    "result = [16000000,10000000,8000000,1900000,700000]\n",
    "\n",
    "plt.xticks(x+0.2, xLabel)\n",
    "plt.bar(x,pred,color='r', width =0.4, label='예상')\n",
    "plt.bar(x+0.4,result,color='b', width =0.4, label='결과')\n",
    "plt.legend()\n",
    "\n",
    "plt.ylabel('관객수')\n",
    "plt.title('2019~2020 영화관객수 예측')\n",
    "\n",
    "\n",
    "font1 = {\n",
    "      'color':  'blue',\n",
    "      'weight': 'bold',\n",
    "      'size': 16}\n",
    "font2 = {\n",
    "      'color':  'red',\n",
    "      'weight': 'bold',\n",
    "      'size': 16}\n",
    "\n",
    "plt.text(1, 7000000, 'A급', va='center', ha='center', fontdict=font1)\n",
    "plt.text(2, 7000000, 'A급', va='center', ha='center', fontdict=font1)\n",
    "plt.text(3, 7000000, 'B급', va='center', ha='center', fontdict=font1)\n",
    "plt.text(4, 7000000, 'D급', va='center', ha='center', fontdict=font1)\n",
    "plt.text(5, 7000000, 'D급', va='center', ha='center', fontdict=font1)\n",
    "\n",
    "\n",
    "plt.text(1.4, 7000000, 'A급', va='center', ha='center', fontdict=font2)\n",
    "plt.text(2.4, 7000000, 'A급', va='center', ha='center', fontdict=font2)\n",
    "plt.text(3.4, 7000000, 'B급', va='center', ha='center', fontdict=font2)\n",
    "plt.text(4.4, 7000000, 'D급', va='center', ha='center', fontdict=font2)\n",
    "plt.text(5.4, 7000000, 'D급', va='center', ha='center', fontdict=font2)\n",
    "\n",
    "plt.axhline(y=10000000, xmin=0, xmax=1)\n",
    "plt.axhline(y=5000000, xmin=0, xmax=1)\n",
    "plt.axhline(y=2000000, xmin=0, xmax=1)\n",
    "plt.axhline(y=1000000, xmin=0, xmax=1)\n",
    "\n",
    "plt.savefig('pred1.png')\n",
    "plt.show()"
   ]
  },
  {
   "cell_type": "code",
   "execution_count": 137,
   "metadata": {},
   "outputs": [
    {
     "name": "stdout",
     "output_type": "stream",
     "text": [
      "['Malgun Gothic']\n"
     ]
    },
    {
     "data": {
      "image/png": "[encoded data removed]",
      "text/plain": [
       "<Figure size 432x288 with 1 Axes>"
      ]
     },
     "metadata": {},
     "output_type": "display_data"
    }
   ],
   "source": [
    "import matplotlib.pyplot as plt\n",
    "import pandas as pd\n",
    "from matplotlib import font_manager, rc\n",
    "# matplotlib 폰트설정\n",
    "# plt.rc('font', family='NanumGothicOTF') # For MacOS\n",
    "plt.rc('font', family='Malgun Gothic') # For Windows\n",
    "print(plt.rcParams['font.family'])\n",
    "\n",
    "plt.style.use('fivethirtyeight')\n",
    "\n",
    "xLabel = ['극한직업','기생충','스파이더맨','테넷','도굴']\n",
    "x = pd.Series([1,2,3,4,5])\n",
    "pred = [14401147,11181178,7249898,6573512,1001207]\n",
    "result = [16000000,10000000,8000000,1900000,700000]\n",
    "\n",
    "plt.xticks(x+0.2, xLabel)\n",
    "plt.bar(x,pred,color='r', width =0.4, label='예상')\n",
    "plt.bar(x+0.4,result,color='b', width =0.4, label='결과')\n",
    "plt.legend()\n",
    "\n",
    "plt.ylabel('관객수')\n",
    "plt.title('2019~2020 영화관객수 예측')\n",
    "\n",
    "\n",
    "font1 = {\n",
    "      'color':  'blue',\n",
    "      'weight': 'bold',\n",
    "      'size': 16}\n",
    "font2 = {\n",
    "      'color':  'red',\n",
    "      'weight': 'bold',\n",
    "      'size': 16}\n",
    "\n",
    "# plt.text(1, 7000000, 'A급', va='center', ha='center', fontdict=font1)\n",
    "# plt.text(2, 7000000, 'A급', va='center', ha='center', fontdict=font1)\n",
    "# plt.text(3, 7000000, 'B급', va='center', ha='center', fontdict=font1)\n",
    "# plt.text(4, 7000000, 'D급', va='center', ha='center', fontdict=font1)\n",
    "# plt.text(5, 7000000, 'D급', va='center', ha='center', fontdict=font1)\n",
    "\n",
    "\n",
    "# plt.text(1.4, 7000000, 'A급', va='center', ha='center', fontdict=font2)\n",
    "# plt.text(2.4, 7000000, 'A급', va='center', ha='center', fontdict=font2)\n",
    "# plt.text(3.4, 7000000, 'B급', va='center', ha='center', fontdict=font2)\n",
    "# plt.text(4.4, 7000000, 'D급', va='center', ha='center', fontdict=font2)\n",
    "# plt.text(5.4, 7000000, 'D급', va='center', ha='center', fontdict=font2)\n",
    "\n",
    "# plt.axhline(y=10000000, xmin=0, xmax=1)\n",
    "# plt.axhline(y=5000000, xmin=0, xmax=1)\n",
    "# plt.axhline(y=2000000, xmin=0, xmax=1)\n",
    "# plt.axhline(y=1000000, xmin=0, xmax=1)\n",
    "plt.savefig('pred2.png')\n",
    "\n",
    "plt.show()"
   ]
  },
  {
   "cell_type": "code",
   "execution_count": null,
   "metadata": {},
   "outputs": [],
   "source": []
  }
 ],
 "metadata": {
  "kernelspec": {
   "display_name": "Python 3",
   "language": "python",
   "name": "python3"
  },
  "language_info": {
   "codemirror_mode": {
    "name": "ipython",
    "version": 3
   },
   "file_extension": ".py",
   "mimetype": "text/x-python",
   "name": "python",
   "nbconvert_exporter": "python",
   "pygments_lexer": "ipython3",
   "version": "3.5.6"
  }
 },
 "nbformat": 4,
 "nbformat_minor": 4
}
