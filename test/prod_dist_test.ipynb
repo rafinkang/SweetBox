{
 "cells": [
  {
   "cell_type": "code",
   "execution_count": 24,
   "metadata": {},
   "outputs": [],
   "source": [
    "from DbConn import *\n",
    "import pandas as pd\n",
    "import numpy as np\n",
    "import matplotlib.pyplot as plt\n",
    "plt.rc('font',family=\"Malgun Gothic\")\n",
    "plt.style.use('fivethirtyeight')\n"
   ]
  },
  {
   "cell_type": "code",
   "execution_count": 29,
   "metadata": {},
   "outputs": [],
   "source": [
    "def producer_cor():\n",
    "    db=DbConn()\n",
    "    \n",
    "    select_query = '''\n",
    "    SELECT prodcd, COUNT(*) as prod_count, max(MAX_AUDIACC) as prod_maxaud, round(avg(MAX_AUDIACC),0) as \n",
    "    FROM MOVIE2 \n",
    "    WHERE prodcd IS NOT NULL \n",
    "    GROUP BY prodcd\n",
    "    '''\n",
    "    select_result = pd.read_sql(select_query,db.connection)\n",
    "    \n",
    "    print(\"제작사 작업 완료-----------\")\n",
    "    db.disconnect()\n",
    "    return select_result\n",
    "\n",
    "def prod_dist_cor():\n",
    "    db=DbConn()\n",
    "    \n",
    "    select_query = '''\n",
    "    select b.moviecd,bt.prodcd ,bt.distcd , b.audiacc,bt.max_audiacc\n",
    "    from boxoffice2 b \n",
    "    inner join movie2 bt\n",
    "    on b.moviecd = bt.moviecd\n",
    "    and b.opendt + 3 = b.dailydate\n",
    "    '''\n",
    "    select_result = pd.read_sql(select_query,db.connection)\n",
    "    \n",
    "    print(\"제작사 &  배급사 작업 완료-----------\")\n",
    "    db.disconnect()\n",
    "    return select_result"
   ]
  },
  {
   "cell_type": "code",
   "execution_count": 30,
   "metadata": {},
   "outputs": [
    {
     "name": "stdout",
     "output_type": "stream",
     "text": [
      "제작사 작업 완료-----------\n"
     ]
    },
    {
     "data": {
      "text/html": [
       "<div>\n",
       "<style scoped>\n",
       "    .dataframe tbody tr th:only-of-type {\n",
       "        vertical-align: middle;\n",
       "    }\n",
       "\n",
       "    .dataframe tbody tr th {\n",
       "        vertical-align: top;\n",
       "    }\n",
       "\n",
       "    .dataframe thead th {\n",
       "        text-align: right;\n",
       "    }\n",
       "</style>\n",
       "<table border=\"1\" class=\"dataframe\">\n",
       "  <thead>\n",
       "    <tr style=\"text-align: right;\">\n",
       "      <th></th>\n",
       "      <th>PRODCD</th>\n",
       "      <th>COUNT(*)</th>\n",
       "      <th>MAX(MAX_AUDIACC)</th>\n",
       "      <th>ROUND(AVG(MAX_AUDIACC),0)</th>\n",
       "    </tr>\n",
       "  </thead>\n",
       "  <tbody>\n",
       "    <tr>\n",
       "      <th>0</th>\n",
       "      <td>20100947</td>\n",
       "      <td>24</td>\n",
       "      <td>7043241</td>\n",
       "      <td>1343578</td>\n",
       "    </tr>\n",
       "    <tr>\n",
       "      <th>1</th>\n",
       "      <td>20202761</td>\n",
       "      <td>1</td>\n",
       "      <td>91420</td>\n",
       "      <td>91420</td>\n",
       "    </tr>\n",
       "    <tr>\n",
       "      <th>2</th>\n",
       "      <td>20137195</td>\n",
       "      <td>3</td>\n",
       "      <td>2695392</td>\n",
       "      <td>2150747</td>\n",
       "    </tr>\n",
       "    <tr>\n",
       "      <th>3</th>\n",
       "      <td>20190405</td>\n",
       "      <td>1</td>\n",
       "      <td>53500</td>\n",
       "      <td>53500</td>\n",
       "    </tr>\n",
       "  </tbody>\n",
       "</table>\n",
       "</div>"
      ],
      "text/plain": [
       "     PRODCD  COUNT(*)  MAX(MAX_AUDIACC)  ROUND(AVG(MAX_AUDIACC),0)\n",
       "0  20100947        24           7043241                    1343578\n",
       "1  20202761         1             91420                      91420\n",
       "2  20137195         3           2695392                    2150747\n",
       "3  20190405         1             53500                      53500"
      ]
     },
     "execution_count": 30,
     "metadata": {},
     "output_type": "execute_result"
    }
   ],
   "source": [
    "prd_df =producer_cor()\n",
    "prd_df.head(4)\n",
    "#제작사 790 개\n",
    "#prd_df.shape"
   ]
  },
  {
   "cell_type": "code",
   "execution_count": 31,
   "metadata": {},
   "outputs": [
    {
     "name": "stdout",
     "output_type": "stream",
     "text": [
      "제작사 &  배급사 작업 완료-----------\n"
     ]
    }
   ],
   "source": [
    "prod_dist_df=prod_dist_cor()"
   ]
  },
  {
   "cell_type": "code",
   "execution_count": 33,
   "metadata": {},
   "outputs": [
    {
     "data": {
      "text/html": [
       "<div>\n",
       "<style scoped>\n",
       "    .dataframe tbody tr th:only-of-type {\n",
       "        vertical-align: middle;\n",
       "    }\n",
       "\n",
       "    .dataframe tbody tr th {\n",
       "        vertical-align: top;\n",
       "    }\n",
       "\n",
       "    .dataframe thead th {\n",
       "        text-align: right;\n",
       "    }\n",
       "</style>\n",
       "<table border=\"1\" class=\"dataframe\">\n",
       "  <thead>\n",
       "    <tr style=\"text-align: right;\">\n",
       "      <th></th>\n",
       "      <th>MOVIECD</th>\n",
       "      <th>PRODCD</th>\n",
       "      <th>DISTCD</th>\n",
       "      <th>AUDIACC</th>\n",
       "      <th>MAX_AUDIACC</th>\n",
       "    </tr>\n",
       "  </thead>\n",
       "  <tbody>\n",
       "    <tr>\n",
       "      <th>1</th>\n",
       "      <td>20142641</td>\n",
       "      <td>20157708.0</td>\n",
       "      <td>20110854.0</td>\n",
       "      <td>301956</td>\n",
       "      <td>423372</td>\n",
       "    </tr>\n",
       "    <tr>\n",
       "      <th>9</th>\n",
       "      <td>20138224</td>\n",
       "      <td>20138715.0</td>\n",
       "      <td>20100520.0</td>\n",
       "      <td>345027</td>\n",
       "      <td>631865</td>\n",
       "    </tr>\n",
       "    <tr>\n",
       "      <th>13</th>\n",
       "      <td>20068576</td>\n",
       "      <td>20123837.0</td>\n",
       "      <td>20100103.0</td>\n",
       "      <td>355331</td>\n",
       "      <td>650145</td>\n",
       "    </tr>\n",
       "    <tr>\n",
       "      <th>15</th>\n",
       "      <td>20144442</td>\n",
       "      <td>20110933.0</td>\n",
       "      <td>20100520.0</td>\n",
       "      <td>455896</td>\n",
       "      <td>588886</td>\n",
       "    </tr>\n",
       "  </tbody>\n",
       "</table>\n",
       "</div>"
      ],
      "text/plain": [
       "     MOVIECD      PRODCD      DISTCD  AUDIACC  MAX_AUDIACC\n",
       "1   20142641  20157708.0  20110854.0   301956       423372\n",
       "9   20138224  20138715.0  20100520.0   345027       631865\n",
       "13  20068576  20123837.0  20100103.0   355331       650145\n",
       "15  20144442  20110933.0  20100520.0   455896       588886"
      ]
     },
     "execution_count": 33,
     "metadata": {},
     "output_type": "execute_result"
    }
   ],
   "source": [
    "prod_dist_df=prod_dist_df.dropna(axis=0,how='any')\n",
    "prod_dist_df.head(4)"
   ]
  },
  {
   "cell_type": "code",
   "execution_count": null,
   "metadata": {},
   "outputs": [],
   "source": []
  },
  {
   "cell_type": "code",
   "execution_count": null,
   "metadata": {},
   "outputs": [],
   "source": []
  },
  {
   "cell_type": "code",
   "execution_count": null,
   "metadata": {},
   "outputs": [],
   "source": []
  },
  {
   "cell_type": "code",
   "execution_count": null,
   "metadata": {},
   "outputs": [],
   "source": []
  },
  {
   "cell_type": "code",
   "execution_count": null,
   "metadata": {},
   "outputs": [],
   "source": []
  },
  {
   "cell_type": "code",
   "execution_count": null,
   "metadata": {},
   "outputs": [],
   "source": []
  },
  {
   "cell_type": "code",
   "execution_count": null,
   "metadata": {},
   "outputs": [],
   "source": []
  },
  {
   "cell_type": "code",
   "execution_count": null,
   "metadata": {},
   "outputs": [],
   "source": []
  },
  {
   "cell_type": "code",
   "execution_count": null,
   "metadata": {},
   "outputs": [],
   "source": []
  },
  {
   "cell_type": "code",
   "execution_count": null,
   "metadata": {},
   "outputs": [],
   "source": []
  },
  {
   "cell_type": "code",
   "execution_count": null,
   "metadata": {},
   "outputs": [],
   "source": []
  },
  {
   "cell_type": "code",
   "execution_count": null,
   "metadata": {},
   "outputs": [],
   "source": []
  },
  {
   "cell_type": "code",
   "execution_count": null,
   "metadata": {},
   "outputs": [],
   "source": []
  },
  {
   "cell_type": "code",
   "execution_count": null,
   "metadata": {},
   "outputs": [],
   "source": []
  },
  {
   "cell_type": "code",
   "execution_count": null,
   "metadata": {},
   "outputs": [],
   "source": []
  },
  {
   "cell_type": "code",
   "execution_count": null,
   "metadata": {},
   "outputs": [],
   "source": []
  }
 ],
 "metadata": {
  "kernelspec": {
   "display_name": "Python 3",
   "language": "python",
   "name": "python3"
  },
  "language_info": {
   "codemirror_mode": {
    "name": "ipython",
    "version": 3
   },
   "file_extension": ".py",
   "mimetype": "text/x-python",
   "name": "python",
   "nbconvert_exporter": "python",
   "pygments_lexer": "ipython3",
   "version": "3.5.6"
  }
 },
 "nbformat": 4,
 "nbformat_minor": 4
}
