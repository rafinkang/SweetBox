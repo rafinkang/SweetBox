{
 "cells": [
  {
   "cell_type": "markdown",
   "metadata": {},
   "source": [
    "테스트"
   ]
  },
  {
   "cell_type": "code",
   "execution_count": 12,
   "metadata": {},
   "outputs": [],
   "source": [
    "import requests\n",
    "import json\n",
    "from DbConn import *\n"
   ]
  },
  {
   "cell_type": "code",
   "execution_count": 30,
   "metadata": {},
   "outputs": [],
   "source": [
    "API_KEY = \"ef0d1cc93bc2ef58555e96b5dd6af1e4\""
   ]
  },
  {
   "cell_type": "code",
   "execution_count": 10,
   "metadata": {},
   "outputs": [
    {
     "data": {
      "text/plain": [
       "[(10, 'ITnono', 'SEOULok'),\n",
       " (20, 'ITnono', 'SEOULok'),\n",
       " (30, 'streetdog', 'street'),\n",
       " (40, 'OPERATIONS', 'BOSTON'),\n",
       " (98, 'AAA', 'BBB')]"
      ]
     },
     "execution_count": 10,
     "metadata": {},
     "output_type": "execute_result"
    }
   ],
   "source": [
    "db = DbConn()\n",
    "db.execute(\"select * from dept\")"
   ]
  },
  {
   "cell_type": "code",
   "execution_count": null,
   "metadata": {},
   "outputs": [],
   "source": [
    "# ef0d1cc93bc2ef58555e96b5dd6af1e4"
   ]
  },
  {
   "cell_type": "code",
   "execution_count": 26,
   "metadata": {},
   "outputs": [],
   "source": [
    "url = 'http://www.kobis.or.kr/kobisopenapi/webservice/rest/people/searchPeopleList.json?key='+API_KEY+'&peopleNm=%EC%86%A1%EA%B0%95%ED%98%B8'"
   ]
  },
  {
   "cell_type": "code",
   "execution_count": 27,
   "metadata": {},
   "outputs": [
    {
     "data": {
      "text/plain": [
       "<Response [200]>"
      ]
     },
     "execution_count": 27,
     "metadata": {},
     "output_type": "execute_result"
    }
   ],
   "source": [
    "req = requests.get(url)\n",
    "req"
   ]
  },
  {
   "cell_type": "code",
   "execution_count": 28,
   "metadata": {},
   "outputs": [],
   "source": [
    "data = req.json()"
   ]
  },
  {
   "cell_type": "code",
   "execution_count": 29,
   "metadata": {},
   "outputs": [
    {
     "data": {
      "text/plain": [
       "{'peopleListResult': {'peopleList': [{'filmoNames': '비상선언|브로커(가제)|나랏말싸미|기생충|마약왕|택시운전사|제5열|밀정|사도|변호인|관상|설국열차|하울링|푸른소금|의형제|박쥐|좋은 놈, 나쁜 놈, 이상한 놈 |좋은 놈, 나쁜 놈, 이상한 놈(칸버전)|밀양|우아한 세계|괴물|친절한 금자씨|남극일기|효자동 이발사|살인의 추억|YMCA야구단|복수는 나의 것|공동경비구역 JSA|반칙왕|쉬리|조용한 가족|넘버 3|초록물고기|돼지가 우물에 빠진 날|청출어람|사랑의 힘|동창회',\n",
       "    'peopleCd': '10037018',\n",
       "    'peopleNm': '송강호',\n",
       "    'peopleNmEn': 'SONG Kang-ho',\n",
       "    'repRoleNm': '배우'},\n",
       "   {'filmoNames': '데드 엔드',\n",
       "    'peopleCd': '20187454',\n",
       "    'peopleNm': '송강호',\n",
       "    'peopleNmEn': '',\n",
       "    'repRoleNm': '조명'}],\n",
       "  'source': '영화진흥위원회',\n",
       "  'totCnt': 2}}"
      ]
     },
     "execution_count": 29,
     "metadata": {},
     "output_type": "execute_result"
    }
   ],
   "source": [
    "data"
   ]
  },
  {
   "cell_type": "code",
   "execution_count": 32,
   "metadata": {},
   "outputs": [
    {
     "data": {
      "text/plain": [
       "{'peopleList': [{'filmoNames': '비상선언|브로커(가제)|나랏말싸미|기생충|마약왕|택시운전사|제5열|밀정|사도|변호인|관상|설국열차|하울링|푸른소금|의형제|박쥐|좋은 놈, 나쁜 놈, 이상한 놈 |좋은 놈, 나쁜 놈, 이상한 놈(칸버전)|밀양|우아한 세계|괴물|친절한 금자씨|남극일기|효자동 이발사|살인의 추억|YMCA야구단|복수는 나의 것|공동경비구역 JSA|반칙왕|쉬리|조용한 가족|넘버 3|초록물고기|돼지가 우물에 빠진 날|청출어람|사랑의 힘|동창회',\n",
       "   'peopleCd': '10037018',\n",
       "   'peopleNm': '송강호',\n",
       "   'peopleNmEn': 'SONG Kang-ho',\n",
       "   'repRoleNm': '배우'},\n",
       "  {'filmoNames': '데드 엔드',\n",
       "   'peopleCd': '20187454',\n",
       "   'peopleNm': '송강호',\n",
       "   'peopleNmEn': '',\n",
       "   'repRoleNm': '조명'}],\n",
       " 'source': '영화진흥위원회',\n",
       " 'totCnt': 2}"
      ]
     },
     "execution_count": 32,
     "metadata": {},
     "output_type": "execute_result"
    }
   ],
   "source": [
    "data['peopleListResult']"
   ]
  },
  {
   "cell_type": "code",
   "execution_count": null,
   "metadata": {},
   "outputs": [],
   "source": []
  },
  {
   "cell_type": "code",
   "execution_count": null,
   "metadata": {},
   "outputs": [],
   "source": [
    "query = \"\"\"\n",
    "INSERT INTO matjip_party \n",
    "(title, user_id, cur_member, max_member, member_list, status, end_time) \n",
    "VALUES (:title, :user_id, 1, :max_member, :member_list, 1, TO_DATE(:end_time, 'yyyy-MM-dd hh24:mi:ss'))\n",
    "\"\"\"\n",
    "db.execute(query, {'title' : title, 'user_id': user_id, 'max_member' : max_member, 'member_list' : user_name, 'end_time' : end_time})\n",
    "            "
   ]
  },
  {
   "cell_type": "code",
   "execution_count": null,
   "metadata": {},
   "outputs": [],
   "source": []
  },
  {
   "cell_type": "code",
   "execution_count": null,
   "metadata": {},
   "outputs": [],
   "source": []
  }
 ],
 "metadata": {
  "kernelspec": {
   "display_name": "Python 3",
   "language": "python",
   "name": "python3"
  },
  "language_info": {
   "codemirror_mode": {
    "name": "ipython",
    "version": 3
   },
   "file_extension": ".py",
   "mimetype": "text/x-python",
   "name": "python",
   "nbconvert_exporter": "python",
   "pygments_lexer": "ipython3",
   "version": "3.5.6"
  }
 },
 "nbformat": 4,
 "nbformat_minor": 4
}
