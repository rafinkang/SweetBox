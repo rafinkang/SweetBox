{
 "cells": [
  {
   "cell_type": "code",
   "execution_count": 15,
   "metadata": {},
   "outputs": [],
   "source": [
    "#DB내용 csv로 저장\n",
    "from DbConn import *\n",
    "import pandas as pd\n",
    "import numpy as np"
   ]
  },
  {
   "cell_type": "code",
   "execution_count": 16,
   "metadata": {},
   "outputs": [],
   "source": [
    "def make_csv():\n",
    "    db = DbConn()\n",
    "    \n",
    "    select_query = \"\"\"\n",
    "    select movienm, moviecd, audiacc,dailydate \n",
    "    from boxoffice2  \n",
    "    where dailydate < TO_DATE('19/01/01', 'YY/mm/dd') and dailydate > TO_DATE('18/01/01', 'YY/mm/dd') \n",
    "    order by dailydate\n",
    "    \"\"\"\n",
    "\n",
    "    select_result = pd.read_sql(select_query,db.connection)\n",
    "\n",
    "    print('csv 파일 불러 오기 -----')\n",
    "    db.disconnect()\n",
    "    return  select_result\n"
   ]
  },
  {
   "cell_type": "code",
   "execution_count": 17,
   "metadata": {},
   "outputs": [
    {
     "name": "stdout",
     "output_type": "stream",
     "text": [
      "csv 파일 불러 오기 -----\n"
     ]
    }
   ],
   "source": [
    "df=make_csv()\n",
    "df.columns=['name','type','value','date']"
   ]
  },
  {
   "cell_type": "code",
   "execution_count": 18,
   "metadata": {},
   "outputs": [],
   "source": [
    "df.to_csv('example3.csv',encoding='UTF-8')"
   ]
  },
  {
   "cell_type": "code",
   "execution_count": null,
   "metadata": {},
   "outputs": [],
   "source": []
  }
 ],
 "metadata": {
  "kernelspec": {
   "display_name": "Python 3",
   "language": "python",
   "name": "python3"
  },
  "language_info": {
   "codemirror_mode": {
    "name": "ipython",
    "version": 3
   },
   "file_extension": ".py",
   "mimetype": "text/x-python",
   "name": "python",
   "nbconvert_exporter": "python",
   "pygments_lexer": "ipython3",
   "version": "3.5.6"
  }
 },
 "nbformat": 4,
 "nbformat_minor": 4
}
