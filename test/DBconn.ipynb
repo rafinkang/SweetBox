{
 "cells": [
  {
   "cell_type": "code",
   "execution_count": 4,
   "metadata": {},
   "outputs": [],
   "source": [
    "#DB 에서 데이터 가져오기\n",
    "import numpy as np\n",
    "import pandas as pd\n",
    "import cx_Oracle as co\n",
    "from datetime import datetime"
   ]
  },
  {
   "cell_type": "code",
   "execution_count": 2,
   "metadata": {},
   "outputs": [
    {
     "data": {
      "text/plain": [
       "'(DESCRIPTION=(ADDRESS=(PROTOCOL=TCP)(HOST=orcl.czq0cxsnbcns.ap-northeast-2.rds.amazonaws.com)(PORT=1521))(CONNECT_DATA=(SERVICE_NAME=orcl)))'"
      ]
     },
     "execution_count": 2,
     "metadata": {},
     "output_type": "execute_result"
    }
   ],
   "source": [
    "dsnString = co.makedsn(\"orcl.czq0cxsnbcns.ap-northeast-2.rds.amazonaws.com\",\"1521\",service_name=\"orcl\")\n",
    "dsnString"
   ]
  },
  {
   "cell_type": "code",
   "execution_count": 3,
   "metadata": {},
   "outputs": [
    {
     "data": {
      "text/plain": [
       "<cx_Oracle.Connection to scott@(DESCRIPTION=(ADDRESS=(PROTOCOL=TCP)(HOST=orcl.czq0cxsnbcns.ap-northeast-2.rds.amazonaws.com)(PORT=1521))(CONNECT_DATA=(SERVICE_NAME=orcl)))>"
      ]
     },
     "execution_count": 3,
     "metadata": {},
     "output_type": "execute_result"
    }
   ],
   "source": [
    "conn = co.connect(user='scott',password='tigertiger',dsn=dsnString)\n",
    "conn"
   ]
  },
  {
   "cell_type": "code",
   "execution_count": null,
   "metadata": {},
   "outputs": [],
   "source": [
    "#pd.read_sql(\"쿼리문\",연결객체) 를 이용하여 dataframe 객체를 얻어오기\n",
    "#type(query_result) 은 DataFrame\n",
    "\n",
    "query_result=pd.read_sql(\"SELECT * FROM EMP\",conn)\n",
    "query_result\n",
    "\n",
    "#다 사용했다면 연결 닫기 필수#conn.close()"
   ]
  },
  {
   "cell_type": "code",
   "execution_count": null,
   "metadata": {},
   "outputs": [],
   "source": [
    "#자주 사용하는 것은 함수로 만들기\n",
    "# def 함수명(매개변수):\n",
    "#     처리할 코드1"
   ]
  },
  {
   "cell_type": "code",
   "execution_count": null,
   "metadata": {},
   "outputs": [],
   "source": [
    "def query_OracleSQL(query):\n",
    "    startTime = datetime.now()\n",
    "    dsnString = co.makedsn(\"orcl.czq0cxsnbcns.ap-northeast-2.rds.amazonaws.com\",\"1521\",\"orcl\")\n",
    "    conn = co.connect(user=\"scott\",password=\"tigertiger\",dsn=dsnString)\n",
    "    query_result = pd.read_sql(query,conn)\n",
    "    conn.close()\n",
    "    endTime = datetime.now()\n",
    "    print(\"시작시간 : \",str(startTime))\n",
    "    print(\"종료시간 : \",str(endTime))\n",
    "    print(\"경과시간 : \",str(endTime-startTime))\n",
    "    return query_result;"
   ]
  },
  {
   "cell_type": "code",
   "execution_count": null,
   "metadata": {},
   "outputs": [],
   "source": [
    "def insert_OracleSQL(data):\n",
    "    #DNS(domian name server)\n",
    "    #DSN 설정\n",
    "    dsnString = co.makedsn(\"orcl.czq0cxsnbcns.ap-northeast-2.rds.amazonaws.com\",\"1521\",\"orcl\")\n",
    "    #connection\n",
    "    conn = co.connect(user=\"scott\",password=\"tigertiger\",dsn=dsnString)\n",
    "    #cursor()\n",
    "    cursor = conn.cursor()\n",
    "    #sql\n",
    "    sql = \"INSERT INTO DEPT VALUES (:1, :2, :3)\"\n",
    "    #execute()\n",
    "    cursor.execute(sql, data)\n",
    "    #commit()\n",
    "    conn.commit()\n",
    "    #close()\n",
    "    conn.close()"
   ]
  },
  {
   "cell_type": "code",
   "execution_count": null,
   "metadata": {},
   "outputs": [],
   "source": []
  },
  {
   "cell_type": "code",
   "execution_count": null,
   "metadata": {},
   "outputs": [],
   "source": []
  },
  {
   "cell_type": "code",
   "execution_count": null,
   "metadata": {},
   "outputs": [],
   "source": []
  },
  {
   "cell_type": "code",
   "execution_count": null,
   "metadata": {},
   "outputs": [],
   "source": []
  },
  {
   "cell_type": "code",
   "execution_count": null,
   "metadata": {},
   "outputs": [],
   "source": []
  },
  {
   "cell_type": "code",
   "execution_count": null,
   "metadata": {},
   "outputs": [],
   "source": []
  },
  {
   "cell_type": "code",
   "execution_count": null,
   "metadata": {},
   "outputs": [],
   "source": []
  },
  {
   "cell_type": "code",
   "execution_count": null,
   "metadata": {},
   "outputs": [],
   "source": []
  }
 ],
 "metadata": {
  "kernelspec": {
   "display_name": "Python 3",
   "language": "python",
   "name": "python3"
  },
  "language_info": {
   "codemirror_mode": {
    "name": "ipython",
    "version": 3
   },
   "file_extension": ".py",
   "mimetype": "text/x-python",
   "name": "python",
   "nbconvert_exporter": "python",
   "pygments_lexer": "ipython3",
   "version": "3.5.6"
  }
 },
 "nbformat": 4,
 "nbformat_minor": 4
}
