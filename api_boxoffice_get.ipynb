{
 "cells": [
  {
   "cell_type": "code",
   "execution_count": 37,
   "metadata": {},
   "outputs": [],
   "source": [
    "import requests\n",
    "import re\n",
    "import time\n",
    "import json\n",
    "from DbConn import *\n",
    "\n",
    "db = DbConn()"
   ]
  },
  {
   "cell_type": "code",
   "execution_count": 53,
   "metadata": {},
   "outputs": [
    {
     "name": "stdout",
     "output_type": "stream",
     "text": [
      "{'boxOfficeResult': {'showRange': '20180916~20180916', 'dailyBoxOfficeList': [{'salesInten': '-287921463', 'openDt': '2018-08-29', 'audiInten': '-32090', 'rnum': '1', 'movieCd': '20185046', 'audiAcc': '2517490', 'showCnt': '5116', 'audiCnt': '187762', 'salesAmt': '1708691350', 'movieNm': '서치', 'rank': '1', 'audiChange': '-14.6', 'rankInten': '0', 'scrnCnt': '953', 'rankOldAndNew': 'OLD', 'salesChange': '-14.4', 'salesAcc': '21555411345', 'salesShare': '39.4'}, {'salesInten': '-235212103', 'openDt': '2018-09-12', 'audiInten': '-26890', 'rnum': '2', 'movieCd': '20156554', 'audiAcc': '613890', 'showCnt': '6055', 'audiCnt': '150958', 'salesAmt': '1330130100', 'movieNm': '물괴', 'rank': '2', 'audiChange': '-15.1', 'rankInten': '0', 'scrnCnt': '1095', 'rankOldAndNew': 'OLD', 'salesChange': '-15', 'salesAcc': '5225466554', 'salesShare': '30.7'}, {'salesInten': '-83159367', 'openDt': '2018-08-22', 'audiInten': '-9948', 'rnum': '3', 'movieCd': '20153446', 'audiAcc': '2772819', 'showCnt': '2292', 'audiCnt': '53029', 'salesAmt': '476110050', 'movieNm': '너의 결혼식', 'rank': '3', 'audiChange': '-15.8', 'rankInten': '0', 'scrnCnt': '610', 'rankOldAndNew': 'OLD', 'salesChange': '-14.9', 'salesAcc': '23286644069', 'salesShare': '11.0'}, {'salesInten': '-90423530', 'openDt': '2018-09-12', 'audiInten': '-9794', 'rnum': '4', 'movieCd': '20188581', 'audiAcc': '149398', 'showCnt': '2403', 'audiCnt': '31818', 'salesAmt': '295381850', 'movieNm': '더 프레데터', 'rank': '4', 'audiChange': '-23.5', 'rankInten': '0', 'scrnCnt': '543', 'rankOldAndNew': 'OLD', 'salesChange': '-23.4', 'salesAcc': '1326041614', 'salesShare': '6.8'}, {'salesInten': '-12528300', 'openDt': '2018-09-06', 'audiInten': '-1311', 'rnum': '5', 'movieCd': '20189362', 'audiAcc': '178153', 'showCnt': '644', 'audiCnt': '14072', 'salesAmt': '134489300', 'movieNm': '업그레이드', 'rank': '5', 'audiChange': '-8.5', 'rankInten': '0', 'scrnCnt': '169', 'rankOldAndNew': 'OLD', 'salesChange': '-8.5', 'salesAcc': '1641312300', 'salesShare': '3.1'}, {'salesInten': '-2050800', 'openDt': '2018-08-08', 'audiInten': '-177', 'rnum': '6', 'movieCd': '20181942', 'audiAcc': '2280120', 'showCnt': '362', 'audiCnt': '6584', 'salesAmt': '59718400', 'movieNm': '맘마미아!2', 'rank': '6', 'audiChange': '-2.6', 'rankInten': '0', 'scrnCnt': '203', 'rankOldAndNew': 'OLD', 'salesChange': '-3.3', 'salesAcc': '19498125253', 'salesShare': '1.4'}, {'salesInten': '-1778500', 'openDt': '2018-08-01', 'audiInten': '-245', 'rnum': '7', 'movieCd': '20186202', 'audiAcc': '12264813', 'showCnt': '341', 'audiCnt': '5539', 'salesAmt': '50096150', 'movieNm': '신과함께-인과 연', 'rank': '7', 'audiChange': '-4.2', 'rankInten': '1', 'scrnCnt': '223', 'rankOldAndNew': 'OLD', 'salesChange': '-3.4', 'salesAcc': '102587987709', 'salesShare': '1.2'}, {'salesInten': '-2545500', 'openDt': '2018-09-12', 'audiInten': '-410', 'rnum': '8', 'movieCd': '20188342', 'audiAcc': '13649', 'showCnt': '405', 'audiCnt': '5443', 'salesAmt': '42472000', 'movieNm': '바니부기: 드래곤 에그를 찾아서', 'rank': '8', 'audiChange': '-7', 'rankInten': '-1', 'scrnCnt': '280', 'rankOldAndNew': 'OLD', 'salesChange': '-5.7', 'salesAcc': '104271000', 'salesShare': '1.0'}, {'salesInten': '-5790650', 'openDt': '2018-08-29', 'audiInten': '-699', 'rnum': '9', 'movieCd': '20177537', 'audiAcc': '760945', 'showCnt': '487', 'audiCnt': '4658', 'salesAmt': '41788900', 'movieNm': '상류사회', 'rank': '9', 'audiChange': '-13', 'rankInten': '0', 'scrnCnt': '301', 'rankOldAndNew': 'OLD', 'salesChange': '-12.2', 'salesAcc': '6254721463', 'salesShare': '1.0'}, {'salesInten': '12117000', 'openDt': ' ', 'audiInten': '2422', 'rnum': '10', 'movieCd': '20180367', 'audiAcc': '2806', 'showCnt': '21', 'audiCnt': '2422', 'salesAmt': '12117000', 'movieNm': '인디애니페스트 2018 새벽비행 2', 'rank': '10', 'audiChange': '100', 'rankInten': '0', 'scrnCnt': '5', 'rankOldAndNew': 'NEW', 'salesChange': '100', 'salesAcc': '14040000', 'salesShare': '0.3'}], 'boxofficeType': '일별 박스오피스'}}\n"
     ]
    }
   ],
   "source": [
    "url = 'http://www.kobis.or.kr/kobisopenapi/webservice/rest/boxoffice/searchDailyBoxOfficeList.json?key=d9dbe114c7c43200437493cbcb36ee74&targetDt=20180916'\n",
    "resp = requests.get(url)\n",
    "data = resp.json()\n",
    "print(data)\n",
    "boxOfficeResult = data['boxOfficeResult']\n",
    "dailyBoxOfficeList = boxOfficeResult['dailyBoxOfficeList']\n"
   ]
  },
  {
   "cell_type": "code",
   "execution_count": 45,
   "metadata": {},
   "outputs": [
    {
     "name": "stdout",
     "output_type": "stream",
     "text": [
      "{'salesInten': '-5509708300', 'openDt': '2017-12-20', 'audiInten': '-622313', 'rnum': '1', 'movieCd': '20150976', 'audiAcc': '9750486', 'showCnt': '7019', 'audiCnt': '294339', 'salesAmt': '2205440800', 'movieNm': '신과함께-죄와 벌', 'rank': '1', 'audiChange': '-67.9', 'rankInten': '0', 'scrnCnt': '1446', 'rankOldAndNew': 'OLD', 'salesChange': '-71.4', 'salesAcc': '78271086332', 'salesShare': '44.5'}\n",
      "{'salesInten': '-2817025500', 'openDt': '2017-12-27', 'audiInten': '-314222', 'rnum': '2', 'movieCd': '20170590', 'audiAcc': '2690793', 'showCnt': '5044', 'audiCnt': '217247', 'salesAmt': '1643436600', 'movieNm': '1987', 'rank': '2', 'audiChange': '-59.1', 'rankInten': '0', 'scrnCnt': '1063', 'rankOldAndNew': 'OLD', 'salesChange': '-63.2', 'salesAcc': '21357902737', 'salesShare': '33.1'}\n",
      "{'salesInten': '-586079000', 'openDt': '2017-12-14', 'audiInten': '-66176', 'rnum': '3', 'movieCd': '20170402', 'audiAcc': '4176713', 'showCnt': '1541', 'audiCnt': '48122', 'salesAmt': '358149600', 'movieNm': '강철비', 'rank': '3', 'audiChange': '-57.9', 'rankInten': '0', 'scrnCnt': '580', 'rankOldAndNew': 'OLD', 'salesChange': '-62.1', 'salesAcc': '33297275766', 'salesShare': '7.2'}\n",
      "{'salesInten': '-240708200', 'openDt': '2017-12-20', 'audiInten': '-24893', 'rnum': '4', 'movieCd': '20179462', 'audiAcc': '909832', 'showCnt': '949', 'audiCnt': '35177', 'salesAmt': '269239500', 'movieNm': '위대한 쇼맨', 'rank': '4', 'audiChange': '-41.4', 'rankInten': '0', 'scrnCnt': '444', 'rankOldAndNew': 'OLD', 'salesChange': '-47.2', 'salesAcc': '7436214400', 'salesShare': '5.4'}\n",
      "{'salesInten': '-139089000', 'openDt': '2017-12-21', 'audiInten': '-16174', 'rnum': '5', 'movieCd': '20174965', 'audiAcc': '467287', 'showCnt': '510', 'audiCnt': '17929', 'salesAmt': '123797500', 'movieNm': '극장판 포켓몬스터 너로 정했다!', 'rank': '5', 'audiChange': '-47.4', 'rankInten': '0', 'scrnCnt': '371', 'rankOldAndNew': 'OLD', 'salesChange': '-52.9', 'salesAcc': '3504213700', 'salesShare': '2.5'}\n",
      "{'salesInten': '-118923300', 'openDt': '2017-12-21', 'audiInten': '-13843', 'rnum': '6', 'movieCd': '20176082', 'audiAcc': '380813', 'showCnt': '386', 'audiCnt': '12678', 'salesAmt': '86870000', 'movieNm': '몬스터 패밀리', 'rank': '6', 'audiChange': '-52.2', 'rankInten': '0', 'scrnCnt': '298', 'rankOldAndNew': 'OLD', 'salesChange': '-57.8', 'salesAcc': '2823846000', 'salesShare': '1.8'}\n",
      "{'salesInten': '-72956000', 'openDt': '2017-12-27', 'audiInten': '-7925', 'rnum': '7', 'movieCd': '20176947', 'audiAcc': '112399', 'showCnt': '512', 'audiCnt': '11397', 'salesAmt': '85593600', 'movieNm': '원더', 'rank': '7', 'audiChange': '-41', 'rankInten': '0', 'scrnCnt': '173', 'rankOldAndNew': 'OLD', 'salesChange': '-46', 'salesAcc': '876532900', 'salesShare': '1.7'}\n",
      "{'salesInten': '-58848100', 'openDt': '2017-12-07', 'audiInten': '-6550', 'rnum': '8', 'movieCd': '20174846', 'audiAcc': '794693', 'showCnt': '217', 'audiCnt': '7200', 'salesAmt': '50359500', 'movieNm': '뽀로로 극장판 공룡섬 대모험', 'rank': '8', 'audiChange': '-47.6', 'rankInten': '0', 'scrnCnt': '156', 'rankOldAndNew': 'OLD', 'salesChange': '-53.9', 'salesAcc': '6008455700', 'salesShare': '1.0'}\n",
      "{'salesInten': '-24346400', 'openDt': '2017-12-28', 'audiInten': '-2635', 'rnum': '9', 'movieCd': '20177479', 'audiAcc': '45695', 'showCnt': '225', 'audiCnt': '3305', 'salesAmt': '23536500', 'movieNm': '극장판 프리파라 모두의 동경♪ 렛츠고☆프리파리', 'rank': '9', 'audiChange': '-44.4', 'rankInten': '0', 'scrnCnt': '148', 'rankOldAndNew': 'OLD', 'salesChange': '-50.8', 'salesAcc': '351268300', 'salesShare': '0.5'}\n",
      "{'salesInten': '3369500', 'openDt': '2017-12-14', 'audiInten': '-385', 'rnum': '10', 'movieCd': '20170443', 'audiAcc': '952758', 'showCnt': '63', 'audiCnt': '2913', 'salesAmt': '38460000', 'movieNm': '스타워즈: 라스트 제다이', 'rank': '10', 'audiChange': '-11.7', 'rankInten': '0', 'scrnCnt': '37', 'rankOldAndNew': 'OLD', 'salesChange': '9.6', 'salesAcc': '8609436561', 'salesShare': '0.8'}\n"
     ]
    }
   ],
   "source": [
    "showRange = boxOfficeResult['showRange']\n",
    "boxOfficeResult = data['boxOfficeResult']\n",
    "dailyBoxOfficeList = boxOfficeResult['dailyBoxOfficeList']\n",
    "for i in dailyBoxOfficeList:\n",
    "    print(i)\n",
    "# boxofficeType = boxOfficeResult['boxofficeType']\n",
    "# boxofficeType\n",
    "# boxofficeType['dailyBoxOfficeList']"
   ]
  },
  {
   "cell_type": "code",
   "execution_count": 46,
   "metadata": {},
   "outputs": [],
   "source": [
    "query = \"\"\"\n",
    "INSERT INTO boxOffice\n",
    "(showrange, rnum, rank, rankinten, rankoldandnew, moviecd, movienm, opendt, salesamt, salesshare, salesinten, saleschange, salesacc, audicnt, audiinten, audichange, audiacc, scrncnt, showcnt)\n",
    "VALUES (:showrange, :rnum, :rank, :rankinten, :rankoldandnew, :moviecd, :movienm, :opendt, :salesamt, :salesshare, :salesinten, :saleschange, :salesacc, :audicnt, :audiinten, :audichange, :audiacc, :scrncnt, :showcnt)\n",
    "\"\"\""
   ]
  },
  {
   "cell_type": "code",
   "execution_count": 47,
   "metadata": {},
   "outputs": [
    {
     "name": "stdout",
     "output_type": "stream",
     "text": [
      "20180102~20180102 신과함께-죄와 벌 성공적으로 DB에 입력했슴\n",
      "20180102~20180102 1987 성공적으로 DB에 입력했슴\n",
      "20180102~20180102 강철비 성공적으로 DB에 입력했슴\n",
      "20180102~20180102 위대한 쇼맨 성공적으로 DB에 입력했슴\n",
      "20180102~20180102 극장판 포켓몬스터 너로 정했다! 성공적으로 DB에 입력했슴\n",
      "20180102~20180102 몬스터 패밀리 성공적으로 DB에 입력했슴\n",
      "20180102~20180102 원더 성공적으로 DB에 입력했슴\n",
      "20180102~20180102 뽀로로 극장판 공룡섬 대모험 성공적으로 DB에 입력했슴\n",
      "20180102~20180102 극장판 프리파라 모두의 동경♪ 렛츠고☆프리파리 성공적으로 DB에 입력했슴\n",
      "20180102~20180102 스타워즈: 라스트 제다이 성공적으로 DB에 입력했슴\n"
     ]
    }
   ],
   "source": [
    "boxOfficeResult = data['boxOfficeResult']\n",
    "dailyBoxOfficeList = boxOfficeResult['dailyBoxOfficeList']\n",
    "for i in dailyBoxOfficeList: # 하루에 1위~10위 데이터 들어있음\n",
    "    salesInten = i['salesInten']\n",
    "    openDt = i['openDt']\n",
    "    audiInten = i['audiInten']\n",
    "    rnum = i['rnum']\n",
    "    movieCd = i['movieCd']\n",
    "    audiAcc = i['audiAcc']\n",
    "    showCnt = i['showCnt']\n",
    "    audiCnt = i['audiCnt']\n",
    "    salesAmt = i['salesAmt']\n",
    "    movieNm = i['movieNm']\n",
    "    rank = i['rank']\n",
    "    audiChange = i['audiChange']\n",
    "    rankInten = i['rankInten']\n",
    "    scrnCnt = i['scrnCnt']\n",
    "    rankOldAndNew = i['rankOldAndNew']\n",
    "    salesChange = i['salesChange']\n",
    "    salesAcc = i['salesAcc']\n",
    "    salesShare = i['salesShare']\n",
    "    \n",
    "    query_params = {\n",
    "        'showrange' : showRange,\n",
    "        'rnum' : rnum,\n",
    "        'rank' : rank,\n",
    "        'rankinten' : rankInten,\n",
    "        'rankoldandnew' : rankOldAndNew,\n",
    "        'moviecd' : movieCd,\n",
    "        'movienm' : movieNm,\n",
    "        'opendt' : openDt,\n",
    "        'salesamt' : salesAmt,\n",
    "        'salesshare' : salesShare,\n",
    "        'salesinten' : salesInten,\n",
    "        'saleschange' : salesChange,\n",
    "        'salesacc' : salesAcc,\n",
    "        'audicnt' : audiCnt,\n",
    "        'audiinten' : audiInten,\n",
    "        'audichange' : audiChange,\n",
    "        'audiacc' : audiAcc,\n",
    "        'scrncnt' : scrnCnt,\n",
    "        'showcnt' : showCnt\n",
    "    }\n",
    "    select_query = \"SELECT * FROM BOXOFFICE WHERE SHOWRANGE = :SHOWRANGE AND MOVIECD = :MOVIECD\"\n",
    "    select_result = db.execute(select_query, {\"SHOWRANGE\": showRange, \"MOVIECD\": movieCd})\n",
    "    if len(select_result) == 0:\n",
    "        db.execute(query, query_params)\n",
    "        print(showRange, movieNm,'성공적으로 DB에 입력했슴')\n",
    "    else :\n",
    "        print(showRange, movieNm,'는 안대요 안대~!')\n",
    "    \n",
    "    \n"
   ]
  },
  {
   "cell_type": "code",
   "execution_count": null,
   "metadata": {},
   "outputs": [],
   "source": []
  },
  {
   "cell_type": "code",
   "execution_count": null,
   "metadata": {},
   "outputs": [],
   "source": []
  },
  {
   "cell_type": "code",
   "execution_count": null,
   "metadata": {},
   "outputs": [],
   "source": []
  },
  {
   "cell_type": "code",
   "execution_count": null,
   "metadata": {},
   "outputs": [],
   "source": []
  },
  {
   "cell_type": "code",
   "execution_count": 52,
   "metadata": {},
   "outputs": [
    {
     "name": "stdout",
     "output_type": "stream",
     "text": [
      "['20180101', '20180102', '20180103', '20180104', '20180105', '20180106', '20180107', '20180108', '20180109', '20180110', '20180111', '20180112', '20180113', '20180114', '20180115', '20180116', '20180117', '20180118', '20180119', '20180120', '20180121', '20180122', '20180123', '20180124', '20180125', '20180126', '20180127', '20180128', '20180129', '20180130', '20180131']\n"
     ]
    }
   ],
   "source": [
    "\n",
    "from datetime import datetime, timedelta\n",
    "\n",
    "# 20180501 부터 오늘까지 반환 \n",
    "# yyyymmdd 일자를 datetime 객체로 변환 \n",
    "start_date = datetime.strptime('20180101', '%Y%m%d')\n",
    "end_date = datetime.strptime('20180201', '%Y%m%d')\n",
    "# end_date = datetime.today()\n",
    "\n",
    "# 날짜를 입력할 리스트 \n",
    "str_date_list = []\n",
    "\n",
    "while start_date.strftime('%Y%m%d') != end_date.strftime('%Y%m%d'):\n",
    "    str_date_list.append(start_date.strftime('%Y%m%d'))\n",
    "    start_date += timedelta(days=1)\n",
    "\n",
    "print(str_date_list)"
   ]
  },
  {
   "cell_type": "code",
   "execution_count": null,
   "metadata": {},
   "outputs": [],
   "source": []
  }
 ],
 "metadata": {
  "kernelspec": {
   "display_name": "Python 3",
   "language": "python",
   "name": "python3"
  },
  "language_info": {
   "codemirror_mode": {
    "name": "ipython",
    "version": 3
   },
   "file_extension": ".py",
   "mimetype": "text/x-python",
   "name": "python",
   "nbconvert_exporter": "python",
   "pygments_lexer": "ipython3",
   "version": "3.5.6"
  }
 },
 "nbformat": 4,
 "nbformat_minor": 4
}
